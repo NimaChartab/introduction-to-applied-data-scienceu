{
 "cells": [
  {
   "cell_type": "markdown",
   "metadata": {},
   "source": [
    "# Homework 1"
   ]
  },
  {
   "cell_type": "markdown",
   "metadata": {},
   "source": [
    "## Problem 1: Linear Algebra"
   ]
  },
  {
   "cell_type": "code",
   "execution_count": 1,
   "metadata": {},
   "outputs": [],
   "source": [
    "import numpy as np\n",
    "import time\n",
    "from matplotlib import pyplot as plt"
   ]
  },
  {
   "cell_type": "markdown",
   "metadata": {},
   "source": [
    "### a) Show that the above equation can be written in a form of matrix such that (S,N) is Sth element of a 1 x 10 matrix "
   ]
  },
  {
   "cell_type": "code",
   "execution_count": 2,
   "metadata": {},
   "outputs": [],
   "source": [
    "O=np.matrix([[1],\n",
    "            [1],\n",
    "            [1],\n",
    "            [1],\n",
    "            [1],\n",
    "            [1],\n",
    "            [1],\n",
    "            [1],\n",
    "            [1],\n",
    "            [1]])\n",
    "\n"
   ]
  },
  {
   "cell_type": "code",
   "execution_count": 3,
   "metadata": {},
   "outputs": [],
   "source": [
    "A=np.matrix([[0,0,0,0,0,0,0,0,1,0],#0\n",
    "            [0,0,1,0,1,0,0,0,0,0],#1\n",
    "            [0,1,0,1,0,1,0,0,0,0],#2\n",
    "            [0,0,1,0,0,0,1,0,0,0],#3\n",
    "            [0,1,0,0,0,1,0,1,0,0],#4\n",
    "            [0,0,1,0,1,0,1,0,1,0],#5\n",
    "            [0,0,0,1,0,1,0,0,0,1],#6\n",
    "            [0,0,0,0,1,0,0,0,1,0],#7\n",
    "            [1,0,0,0,0,1,0,1,0,1],#8\n",
    "            [0,0,0,0,0,0,1,0,1,0]])#9"
   ]
  },
  {
   "cell_type": "code",
   "execution_count": 4,
   "metadata": {},
   "outputs": [
    {
     "data": {
      "text/plain": [
       "matrix([[1],\n",
       "        [2],\n",
       "        [3],\n",
       "        [2],\n",
       "        [3],\n",
       "        [4],\n",
       "        [3],\n",
       "        [2],\n",
       "        [4],\n",
       "        [2]])"
      ]
     },
     "execution_count": 4,
     "metadata": {},
     "output_type": "execute_result"
    }
   ],
   "source": [
    "A*O"
   ]
  },
  {
   "cell_type": "code",
   "execution_count": 5,
   "metadata": {},
   "outputs": [
    {
     "data": {
      "text/plain": [
       "matrix([[1]])"
      ]
     },
     "execution_count": 5,
     "metadata": {},
     "output_type": "execute_result"
    }
   ],
   "source": [
    "A= A*O\n",
    "\n",
    "A[0]"
   ]
  },
  {
   "cell_type": "markdown",
   "metadata": {},
   "source": [
    "### b) Show that (N) can be found recursively using the following equation:"
   ]
  },
  {
   "cell_type": "code",
   "execution_count": 6,
   "metadata": {},
   "outputs": [
    {
     "data": {
      "text/plain": [
       "matrix([[ True],\n",
       "        [ True],\n",
       "        [ True],\n",
       "        [ True],\n",
       "        [ True],\n",
       "        [ True],\n",
       "        [ True],\n",
       "        [ True],\n",
       "        [ True],\n",
       "        [ True]])"
      ]
     },
     "execution_count": 6,
     "metadata": {},
     "output_type": "execute_result"
    }
   ],
   "source": [
    "O=np.matrix([[1],\n",
    "            [1],\n",
    "            [1],\n",
    "            [1],\n",
    "            [1],\n",
    "            [1],\n",
    "            [1],\n",
    "            [1],\n",
    "            [1],\n",
    "            [1]])\n",
    "\n",
    "A=np.matrix([[0,0,0,0,0,0,0,0,1,0],#0\n",
    "            [0,0,1,0,1,0,0,0,0,0],#1\n",
    "            [0,1,0,1,0,1,0,0,0,0],#2\n",
    "            [0,0,1,0,0,0,1,0,0,0],#3\n",
    "            [0,1,0,0,0,1,0,1,0,0],#4\n",
    "            [0,0,1,0,1,0,1,0,1,0],#5\n",
    "            [0,0,0,1,0,1,0,0,0,1],#6\n",
    "            [0,0,0,0,1,0,0,0,1,0],#7\n",
    "            [1,0,0,0,0,1,0,1,0,1],#8\n",
    "            [0,0,0,0,0,0,1,0,1,0]])#9\n",
    "\n",
    "A*A*A*O == A**(4-1)*O"
   ]
  },
  {
   "cell_type": "markdown",
   "metadata": {},
   "source": [
    "### c) Create a 10 x 10 NumPy matrix which contains all the elements we have found for A. Find the transpose of the matrix using numpy.transpose. Are the matrix and its transpose equal? Did you expect this result?"
   ]
  },
  {
   "cell_type": "code",
   "execution_count": 7,
   "metadata": {},
   "outputs": [
    {
     "data": {
      "text/plain": [
       "matrix([[0, 0, 0, 0, 0, 0, 0, 0, 1, 0],\n",
       "        [0, 0, 1, 0, 1, 0, 0, 0, 0, 0],\n",
       "        [0, 1, 0, 1, 0, 1, 0, 0, 0, 0],\n",
       "        [0, 0, 1, 0, 0, 0, 1, 0, 0, 0],\n",
       "        [0, 1, 0, 0, 0, 1, 0, 1, 0, 0],\n",
       "        [0, 0, 1, 0, 1, 0, 1, 0, 1, 0],\n",
       "        [0, 0, 0, 1, 0, 1, 0, 0, 0, 1],\n",
       "        [0, 0, 0, 0, 1, 0, 0, 0, 1, 0],\n",
       "        [1, 0, 0, 0, 0, 1, 0, 1, 0, 1],\n",
       "        [0, 0, 0, 0, 0, 0, 1, 0, 1, 0]])"
      ]
     },
     "execution_count": 7,
     "metadata": {},
     "output_type": "execute_result"
    }
   ],
   "source": [
    "np.transpose(A)"
   ]
  },
  {
   "cell_type": "markdown",
   "metadata": {},
   "source": [
    "No, I did not expect this result"
   ]
  },
  {
   "cell_type": "markdown",
   "metadata": {},
   "source": [
    "### d) Define a function with the name of \"Dialer Problem\" which takes two parameters, S and N and returns (S;N). Within the function, use a \"for loop\" to multiply (1) to A and then A and so on. Test your function for a few examples. For instance, running Dialer Problem(5,10) should return 18713."
   ]
  },
  {
   "cell_type": "code",
   "execution_count": 8,
   "metadata": {},
   "outputs": [],
   "source": [
    "def Dialer_Problem(S,N): \n",
    "    \"\"\"\n",
    "    This function solves the dialer problem\n",
    "    \n",
    "    \"\"\"\n",
    "    t1=time.time()\n",
    "    C = np.matrix\n",
    "    \n",
    "    \n",
    "    A=np.array([[0,0,0,0,0,0,0,0,1,0],#0\n",
    "            [0,0,1,0,1,0,0,0,0,0],#1\n",
    "            [0,1,0,1,0,1,0,0,0,0],#2\n",
    "            [0,0,1,0,0,0,1,0,0,0],#3\n",
    "            [0,1,0,0,0,1,0,1,0,0],#4\n",
    "            [0,0,1,0,1,0,1,0,1,0],#5\n",
    "            [0,0,0,1,0,1,0,0,0,1],#6\n",
    "            [0,0,0,0,1,0,0,0,1,0],#7\n",
    "            [1,0,0,0,0,1,0,1,0,1],#8\n",
    "            [0,0,0,0,0,0,1,0,1,0]])#9\n",
    "    \n",
    "    O=np.array([[1],\n",
    "            [1],\n",
    "            [1],\n",
    "            [1],\n",
    "            [1],\n",
    "            [1],\n",
    "            [1],\n",
    "            [1],\n",
    "            [1],\n",
    "            [1]])\n",
    "    \n",
    "    C = np.dot(A,O)\n",
    "    if(S<0 or S>9 or N <= 0): \n",
    "        return 0\n",
    "    if(N == 1): \n",
    "        return [1]\n",
    "    for i in range(N-2):\n",
    "        C = np.dot(A,C)\n",
    "        #combo = np.sum(A[S] * combo\n",
    "\n",
    "    t2=time.time()\n",
    "        #print('It took : '+str(t2-t1)+ ' seconds')\n",
    "    #print ('It took {s} seconds'.format(s=t2-t))\n",
    "    return(C[S].tolist())"
   ]
  },
  {
   "cell_type": "code",
   "execution_count": 9,
   "metadata": {},
   "outputs": [
    {
     "data": {
      "text/plain": [
       "[1]"
      ]
     },
     "execution_count": 9,
     "metadata": {},
     "output_type": "execute_result"
    }
   ],
   "source": [
    "Dialer_Problem(5,1)"
   ]
  },
  {
   "cell_type": "markdown",
   "metadata": {},
   "source": [
    "### e) Rewrite the same code without using NumPy package. You will need to create a nested list which includes all the elements in A and also define a function which performs matrix multiplication"
   ]
  },
  {
   "cell_type": "code",
   "execution_count": 43,
   "metadata": {},
   "outputs": [],
   "source": [
    "\n",
    "A_WM=[[0,0,0,0,0,0,0,0,1,0],#0\n",
    "            [0,0,1,0,1,0,0,0,0,0],#1\n",
    "            [0,1,0,1,0,1,0,0,0,0],#2\n",
    "            [0,0,1,0,0,0,1,0,0,0],#3\n",
    "            [0,1,0,0,0,1,0,1,0,0],#4\n",
    "            [0,0,1,0,1,0,1,0,1,0],#5\n",
    "            [0,0,0,1,0,1,0,0,0,1],#6\n",
    "            [0,0,0,0,1,0,0,0,1,0],#7\n",
    "            [1,0,0,0,0,1,0,1,0,1],#8\n",
    "            [0,0,0,0,0,0,1,0,1,0]]#9\n",
    "    \n",
    "O_WM=[[1],\n",
    "            [1],\n",
    "            [1],\n",
    "            [1],\n",
    "            [1],\n",
    "            [1],\n",
    "            [1],\n",
    "            [1],\n",
    "            [1],\n",
    "            [1]]"
   ]
  },
  {
   "cell_type": "code",
   "execution_count": 44,
   "metadata": {},
   "outputs": [],
   "source": [
    "def MatrixMultiplication(A,B):\n",
    "    \"\"\"\n",
    "    \n",
    "    A function which computes matrix multiplication of the first and second inputs. Inputs should be list-like.\n",
    "    \"\"\"\n",
    "    \n",
    "    if len(A[0]) ==len(B):\n",
    "        R=[[sum(x*y for x,y in zip(A_row,B_col)) for B_col in zip(*B)]\n",
    "           for A_row in A]\n",
    "        return R\n",
    "    else:\n",
    "             print(\"Matrix dimensions do not match\")\n",
    "\n",
    "\n",
    "class Matrix_Set:\n",
    "    def __init__(self,A,O,S,N):\n",
    "        self.A=A\n",
    "        self.A_1 = []\n",
    "        self.A_2 = []\n",
    "        self.A_3 = []\n",
    "        self.S = S\n",
    "        self.O = O\n",
    "        self.N = N\n",
    "        self.t1 = 0\n",
    "        self.t2 = 0\n",
    "        self.time_elapsed = []\n",
    "        self.N_used = []\n",
    "    \n",
    "\n",
    "    \n",
    "    def Dialer_Problem_2(self):\n",
    "         # same function as problem c without numpy \n",
    "            \n",
    "    \n",
    "        self.t1 = time.time()\n",
    "        C = MatrixMultiplication(self.A,self.O)\n",
    "        if(self.S<0 or self.S>9 or self.N <= 0): \n",
    "            return 0\n",
    "        if(self.N == 1): \n",
    "            return 1\n",
    "        for i in range(self.N-2):\n",
    "            C = MatrixMultiplication(A,C)\n",
    "            \n",
    "        self.t2 = time.time()\n",
    "            #print('It took : '+str(t2-t1)+ ' seconds')\n",
    "        print ('It took {s} seconds'.format(s=self.t2-self.t1))\n",
    "        return(C[self.S])\n",
    "    \n",
    "    \n",
    "    def Performance(self):\n",
    "        from matplotlib import pyplot as plt\n",
    "         # Driver program to test above function \n",
    "        self.t1 = time.time()\n",
    "        C = MatrixMultiplication(self.A,self.O)\n",
    "        if(self.S<0 or self.S>9 or self.N <= 0): \n",
    "            return 0\n",
    "        if(self.N == 1): \n",
    "            return 1\n",
    "        for i in range(self.N-2):\n",
    "            C = MatrixMultiplication(A,C)\n",
    "        \n",
    "        self.t2 = time.time()\n",
    "        return((self.t2-self.t1)*1000)\n",
    "\n",
    "\n",
    "        \n",
    "        \n",
    "        \n",
    "        \n",
    "        \n",
    "    \n",
    "    \n",
    "        \n",
    "        \n",
    "    \n",
    "        \n"
   ]
  },
  {
   "cell_type": "code",
   "execution_count": 45,
   "metadata": {},
   "outputs": [],
   "source": [
    "Set = Matrix_Set(A_WM,O_WM,5,10)"
   ]
  },
  {
   "cell_type": "code",
   "execution_count": 46,
   "metadata": {},
   "outputs": [
    {
     "data": {
      "text/plain": [
       "0.0"
      ]
     },
     "execution_count": 46,
     "metadata": {},
     "output_type": "execute_result"
    }
   ],
   "source": [
    "Set.Performance()"
   ]
  },
  {
   "cell_type": "code",
   "execution_count": 47,
   "metadata": {},
   "outputs": [
    {
     "name": "stdout",
     "output_type": "stream",
     "text": [
      "It took 0.0 seconds\n"
     ]
    },
    {
     "data": {
      "text/plain": [
       "[18713]"
      ]
     },
     "execution_count": 47,
     "metadata": {},
     "output_type": "execute_result"
    }
   ],
   "source": [
    "Set.Dialer_Problem_2()"
   ]
  },
  {
   "cell_type": "markdown",
   "metadata": {},
   "source": [
    "### f) Using time module of Python, evaluate the algorithmic efficiency of your code in part d. You need to make the similar figure shown above on your computer."
   ]
  },
  {
   "cell_type": "code",
   "execution_count": 15,
   "metadata": {},
   "outputs": [],
   "source": [
    "def Dialer_Prob_Performance(S,N): \n",
    "    \"\"\"\n",
    "    This function solves the dialer problem\n",
    "    \n",
    "    \"\"\"\n",
    "    t1=time.time()\n",
    "    C = np.matrix\n",
    "    \n",
    "    \n",
    "    A=np.array([[0,0,0,0,0,0,0,0,1,0],#0\n",
    "            [0,0,1,0,1,0,0,0,0,0],#1\n",
    "            [0,1,0,1,0,1,0,0,0,0],#2\n",
    "            [0,0,1,0,0,0,1,0,0,0],#3\n",
    "            [0,1,0,0,0,1,0,1,0,0],#4\n",
    "            [0,0,1,0,1,0,1,0,1,0],#5\n",
    "            [0,0,0,1,0,1,0,0,0,1],#6\n",
    "            [0,0,0,0,1,0,0,0,1,0],#7\n",
    "            [1,0,0,0,0,1,0,1,0,1],#8\n",
    "            [0,0,0,0,0,0,1,0,1,0]])#9\n",
    "    \n",
    "    O=np.array([[1],\n",
    "            [1],\n",
    "            [1],\n",
    "            [1],\n",
    "            [1],\n",
    "            [1],\n",
    "            [1],\n",
    "            [1],\n",
    "            [1],\n",
    "            [1]])\n",
    "    \n",
    "    C = np.dot(A,O)\n",
    "    if(S<0 or S>9 or N <= 0): \n",
    "        return((time.time()- t1)*1000)\n",
    "    if(N == 1): \n",
    "        return((time.time()- t1)*1000)\n",
    "    for i in range(N-2):\n",
    "        C = np.dot(A,C)\n",
    "   \n",
    "\n",
    "    return((time.time()- t1)*1000)\n"
   ]
  },
  {
   "cell_type": "code",
   "execution_count": 16,
   "metadata": {},
   "outputs": [
    {
     "data": {
      "text/plain": [
       "array([0.        , 0.        , 0.        , ..., 9.9978447 , 9.94801521,\n",
       "       9.97281075])"
      ]
     },
     "execution_count": 16,
     "metadata": {},
     "output_type": "execute_result"
    }
   ],
   "source": [
    "N=range(1,10000)\n",
    "\n",
    "Dialer=[]\n",
    "for j in N:\n",
    "    Dialer.append(Dialer_Prob_Performance(5,j))\n",
    "    \n",
    "Dialer = np.array(Dialer)\n",
    "Dialer = Dialer.T\n",
    "\n",
    "Dialer\n",
    "\n"
   ]
  },
  {
   "cell_type": "code",
   "execution_count": 17,
   "metadata": {},
   "outputs": [
    {
     "data": {
      "text/plain": [
       "<function matplotlib.pyplot.show(*args, **kw)>"
      ]
     },
     "execution_count": 17,
     "metadata": {},
     "output_type": "execute_result"
    },
    {
     "data": {
      "image/png": "[encoded data removed]",
      "text/plain": [
       "<Figure size 936x936 with 1 Axes>"
      ]
     },
     "metadata": {
      "needs_background": "light"
     },
     "output_type": "display_data"
    }
   ],
   "source": [
    "np.polyfit(N,Dialer,1)\n",
    "\n",
    "ynew=np.poly1d(np.polyfit(N,Dialer,1))\n",
    "\n",
    "\n",
    "\n",
    "plt.figure(figsize=(13,13))\n",
    "plt.plot(N,Dialer,c='steelblue',label='5')\n",
    "plt.plot(N,ynew(N),c='red')\n",
    "plt.xlabel('N', fontsize=15)\n",
    "plt.ylabel('Execution Time(ms)', fontsize=15)\n",
    "plt.legend(fontsize=15)\n",
    "plt.xticks(fontsize=13)\n",
    "plt.yticks(fontsize=13)\n",
    "plt.text(1000, 15, 'O(N)', horizontalalignment='center',verticalalignment='center')\n",
    "plt.title(\"Numpy\")\n",
    "\n",
    "plt.show"
   ]
  },
  {
   "cell_type": "code",
   "execution_count": 18,
   "metadata": {},
   "outputs": [],
   "source": [
    "N_WM=range(1,1000)"
   ]
  },
  {
   "cell_type": "code",
   "execution_count": 19,
   "metadata": {},
   "outputs": [
    {
     "data": {
      "text/plain": [
       "array([ 1.        ,  0.        ,  0.        ,  0.        ,  0.        ,\n",
       "        0.        ,  1.03569031,  0.        ,  0.        ,  0.        ,\n",
       "        0.95891953,  0.        ,  0.        ,  0.        ,  0.99682808,\n",
       "        0.        ,  0.        ,  0.9970665 ,  0.99778175,  0.        ,\n",
       "        1.03259087,  0.        ,  0.96154213,  0.        ,  0.99754333,\n",
       "        0.9970665 ,  0.99778175,  0.        ,  0.99682808,  0.99754333,\n",
       "        0.99730492,  1.99604034,  1.99389458,  1.99508667,  0.99658966,\n",
       "        1.02972984,  0.98180771,  1.01399422,  0.99611282,  1.96313858,\n",
       "        0.99563599,  2.01535225,  0.97703934,  2.02012062,  1.96886063,\n",
       "        0.99754333,  0.99945068,  0.99539757,  1.99556351,  1.03020668,\n",
       "        0.99635124,  1.98769569,  0.99754333,  1.99627876,  1.96790695,\n",
       "        0.99754333,  1.994133  ,  0.99754333,  2.01463699,  2.00533867,\n",
       "        0.98729134,  1.97339058,  1.01804733,  1.97458267,  1.99437141,\n",
       "        1.99460983,  1.99627876,  1.994133  ,  2.99167633,  2.0210743 ,\n",
       "        1.99198723,  1.97100639,  1.99389458,  1.99484825,  1.99508667,\n",
       "        1.994133  ,  1.99389458,  1.99508667,  1.99437141,  1.99556351,\n",
       "        2.01630592,  1.97434425,  2.98976898,  1.99651718,  2.02703476,\n",
       "        1.96242332,  3.023386  ,  1.99007988,  2.9630661 ,  2.0275116 ,\n",
       "        1.9826889 ,  1.99985504,  2.99215317,  1.99365616,  2.96807289,\n",
       "        2.99167633,  2.99191475,  1.99484825,  2.99167633,  2.99191475,\n",
       "        1.99437141,  2.99310684,  3.01361084,  2.98690796,  2.97451019,\n",
       "        2.9964447 ,  3.98468971,  3.02958488,  3.95441055,  3.98778915,\n",
       "        2.99119949,  1.99627876,  2.99215317,  3.02290916,  2.9861927 ,\n",
       "        2.99119949,  2.99167633,  2.96735764,  3.98826599,  3.0195713 ,\n",
       "        2.96449661,  3.98945808,  3.98921967,  2.99334526,  3.98778915,\n",
       "        4.0230751 ,  3.95584106,  2.99358368,  4.02116776,  3.95679474,\n",
       "        3.98802757,  4.02760506,  2.95519829,  3.98921967,  4.01639938,\n",
       "        2.98929214,  3.98945808,  3.9665699 ,  4.01139259,  3.96561623,\n",
       "        2.99119949,  4.02212143,  3.95894051,  3.98755074,  4.99558449,\n",
       "        4.00614738,  3.99541855,  3.98421288,  3.98659706,  3.96513939,\n",
       "        4.01735306,  4.9905777 ,  3.95774841,  3.98921967,  3.98898125,\n",
       "        4.01687622,  5.9773922 ,  3.96943092,  4.00853157,  3.96943092,\n",
       "        5.01966476,  4.95409966,  5.01918793,  4.95386124,  4.986763  ,\n",
       "        4.98747826,  5.02300262,  4.94980812,  6.98184967,  3.98874283,\n",
       "        5.01203537,  3.98802757,  5.96046448,  5.01060486,  4.96125221,\n",
       "        4.98652458,  4.986763  ,  4.98795509,  7.00807571,  4.96029854,\n",
       "        8.97526741,  4.986763  ,  5.98335266,  5.98478317,  4.98557091,\n",
       "        5.98406792,  4.98628616,  6.00481033,  5.97000122,  4.98151779,\n",
       "        5.98430634,  4.98628616,  6.00266457,  4.96792793,  5.98263741,\n",
       "        4.98652458,  7.99965858,  4.98151779,  5.96904755,  4.98723984,\n",
       "        4.98628616,  6.98208809,  4.98652458,  5.98406792,  5.00583649,\n",
       "        5.96427917,  5.98430634,  5.98359108,  5.98454475,  6.01005554,\n",
       "        5.95664978,  6.98256493,  6.01458549,  5.95355034,  5.98359108,\n",
       "        6.01100922,  5.98263741,  5.98335266,  5.98454475,  6.98661804,\n",
       "        5.95331192,  5.9838295 ,  6.00457191,  5.98788261,  5.98526001,\n",
       "        7.01880455,  6.94441795,  5.98263741,  6.98256493,  7.97820091,\n",
       "        5.98335266,  6.99520111,  5.99169731,  5.98740578,  7.95483589,\n",
       "        5.98311424,  6.01148605,  6.97994232,  6.95586205,  7.00855255,\n",
       "        5.95712662,  6.98161125,  6.980896  ,  7.00044632,  6.96206093,\n",
       "        6.98137283,  6.98137283,  6.980896  ,  6.98184967,  6.98137283,\n",
       "        6.98184967,  7.97724724,  6.98256493,  6.98137283,  6.01053238,\n",
       "        7.95102119,  6.98113441,  7.97986984,  6.98065758,  6.98232651,\n",
       "        8.0165863 ,  7.9407692 ,  7.0130825 ,  7.94577599,  6.980896  ,\n",
       "       13.96393776, 10.98012924,  7.97009468,  8.01086426,  6.94704056,\n",
       "        7.98034668,  8.97598267,  7.97724724,  8.02254677,  7.9600811 ,\n",
       "        9.94944572,  8.00609589,  6.9539547 ,  7.9805851 ,  7.97748566,\n",
       "        7.97820091,  8.97598267,  7.97963142,  7.97939301,  8.00919533,\n",
       "        7.96627998,  8.95667076,  7.97891617,  7.97939301,  8.97431374,\n",
       "        8.00609589,  8.9776516 ,  8.00967216,  9.94157791,  7.99846649,\n",
       "        7.95984268,  8.97502899,  8.97574425,  8.97526741,  8.01205635,\n",
       "        9.94181633,  8.97502899,  7.97820091,  9.973526  ,  9.97304916,\n",
       "        9.00387764,  8.94999504,  8.02206993,  9.94801521,  8.95786285,\n",
       "        7.97796249, 10.97750664,  9.00554657,  8.94021988, 10.96963882,\n",
       "       11.00635529, 11.94667816, 10.9899044 , 15.95807076, 10.93697548,\n",
       "        8.97669792,  9.97281075,  8.9764595 ,  8.97622108,  9.97304916,\n",
       "        9.99808311,  9.96780396,  9.95445251, 10.96916199,  9.00149345,\n",
       "        9.94944572,  9.97281075,  8.97574425,  9.97233391,  9.00149345,\n",
       "        9.94920731, 10.96916199,  8.97622108, 11.01064682,  9.93561745,\n",
       "        8.97598267, 10.97273827,  9.97185707, 10.00237465, 11.96432114,\n",
       "       10.95676422, 10.95914841,  9.97400284, 10.99562645,  8.95023346,\n",
       "       12.96687126, 10.96916199, 10.00642776, 10.9372139 , 10.00618935,\n",
       "        9.94181633, 12.96424866, 11.96789742,  9.97376442,  9.97495651,\n",
       "       10.99491119,  9.94849205,  9.97209549, 10.99824905, 11.94167137,\n",
       "       10.96940041, 11.00492477, 10.97035408, 14.92762566, 11.00349426,\n",
       "       11.95883751, 10.9462738 , 13.96417618, 10.9705925 , 11.96837425,\n",
       "       12.98880577, 11.94310188, 11.99245453,  9.94825363, 10.97202301,\n",
       "       10.96963882, 11.96861267, 10.97106934, 11.00182533, 10.93864441,\n",
       "       10.97226143, 11.96622849, 11.99293137, 10.97202301, 11.94214821,\n",
       "       10.97035408, 11.96908951, 11.96694374, 11.96885109, 11.96813583,\n",
       "       11.99913025, 10.93959808, 12.97020912, 10.95104218, 13.9567852 ,\n",
       "       12.96377182, 12.99881935, 12.93182373, 12.96520233, 17.95196533,\n",
       "       12.96520233, 11.967659  , 14.96076584, 13.96250725, 11.96813583,\n",
       "       11.96908951, 11.99531555, 10.96272469, 14.96887207, 10.94269753,\n",
       "       11.99889183, 12.93420792, 12.96448708, 10.97106934, 12.00032234,\n",
       "       13.93222809, 11.00087166, 13.96346092, 11.93475723, 11.96956635,\n",
       "       10.96820831, 13.99254799, 15.92993736, 13.99564743, 13.92745972,\n",
       "       15.9599781 , 15.95783234, 14.98293877, 13.93914223, 16.95299149,\n",
       "       13.98825645, 13.93699646, 11.967659  , 13.96512985, 18.98002625,\n",
       "       12.9339695 , 14.96005058, 14.96386528, 16.97564125, 12.93849945,\n",
       "       13.96298409, 16.95561409, 12.98999786, 12.9404068 , 15.98930359,\n",
       "       12.93706894, 12.96162605, 13.96346092, 13.98897171, 13.93508911,\n",
       "       13.96298409, 13.98801804, 14.93453979, 13.96346092, 13.98968697,\n",
       "       14.96148109, 14.9307251 , 12.96663284, 13.96298409, 11.96837425,\n",
       "       15.95616341, 13.99040222, 16.92700386, 15.9778595 , 17.96483994,\n",
       "       13.93055916, 14.9834156 , 12.96591759, 12.9673481 , 13.93699646,\n",
       "       15.95687866, 14.98508453, 15.9342289 , 15.98381996, 15.92826843,\n",
       "       12.96448708, 13.96274567, 13.96369934, 13.96918297, 15.9497261 ,\n",
       "       12.98999786, 13.93938065, 13.98277283, 13.94319534, 13.96083832,\n",
       "       14.96148109, 14.99128342, 13.93198967, 13.96179199, 13.96346092,\n",
       "       15.95568657, 13.96274567, 15.9573555 , 16.99376106, 13.92531395,\n",
       "       12.96377182, 15.95854759, 13.96179199, 13.96679878, 15.95473289,\n",
       "       15.97595215, 15.9573555 , 14.96529579, 14.93477821, 14.95981216,\n",
       "       15.95711708, 13.96417618, 15.9766674 , 15.93852043, 19.94514465,\n",
       "       14.96124268, 13.98730278, 18.92447472, 13.99421692, 15.92588425,\n",
       "       14.95885849, 14.95981216, 14.99056816, 16.9506073 , 14.93525505,\n",
       "       14.99247551, 14.94622231, 15.93828201, 15.97642899, 16.93415642,\n",
       "       14.98818398, 14.95790482, 14.96338844, 15.93875885, 16.94607735,\n",
       "       13.98229599, 16.94512367, 16.94440842, 14.9846077 , 17.92573929,\n",
       "       17.97771454, 16.954422  , 18.96762848, 18.92757416, 15.96951485,\n",
       "       16.94202423, 15.96856117, 15.95234871, 16.92819595, 16.95871353,\n",
       "       16.95084572, 14.95933533, 17.95220375, 16.99233055, 15.95163345,\n",
       "       14.95432854, 16.92891121, 16.98112488, 16.92819595, 16.95466042,\n",
       "       16.95466042, 15.99001884, 16.92223549, 16.95394516, 14.98532295,\n",
       "       19.92273331, 16.98565483, 16.92342758, 17.95077324, 16.95513725,\n",
       "       15.98262787, 16.96038246, 15.92564583, 16.95609093, 17.95172691,\n",
       "       19.97900009, 16.95990562, 16.91865921, 18.94831657, 16.95489883,\n",
       "       17.97580719, 19.92440224, 17.95053482, 16.95537567, 16.95394516,\n",
       "       18.9807415 , 18.91708374, 17.95148849, 16.95537567, 16.95513725,\n",
       "       17.95220375, 17.9810524 , 16.92485809, 18.98193359, 16.923666  ,\n",
       "       18.94783974, 18.94903183, 19.98448372, 22.90225029, 24.93262291,\n",
       "       18.98121834, 18.91827583, 16.95466042, 18.97287369, 17.92740822,\n",
       "       17.97246933, 18.92971992, 17.95268059, 16.95394516, 18.94927025,\n",
       "       17.98462868, 19.95110512, 18.94021034, 19.94776726, 18.92018318,\n",
       "       17.97890663, 16.92843437, 19.94991302, 18.9704895 , 17.95458794,\n",
       "       17.9245472 , 17.95196533, 18.9499855 , 18.94927025, 19.94681358,\n",
       "       18.9499855 , 17.98772812, 19.0012455 , 18.86200905, 18.97883415,\n",
       "       18.91827583, 19.94657516, 18.95046234, 19.94872093, 19.94347572,\n",
       "       19.94848251, 18.94760132, 18.95093918, 19.94538307, 17.95268059,\n",
       "       18.9499855 , 18.94879341, 18.94831657, 19.97208595, 19.92201805,\n",
       "       18.94974709, 19.947052  , 19.94633675, 19.94657516, 18.97597313,\n",
       "       20.93696594, 21.94690704, 20.95127106, 22.91154861, 18.97764206,\n",
       "       19.91868019, 19.94681358, 18.94879341, 17.95220375, 20.96438408,\n",
       "       19.92559433, 24.96600151, 19.91415024, 22.96686172, 22.91178703,\n",
       "       19.95515823, 23.92697334, 25.92992783, 23.96917343, 26.89528465,\n",
       "       22.93968201, 18.97406578, 20.9197998 , 22.97067642, 26.89433098,\n",
       "       29.92224693, 31.91423416, 21.97217941, 27.89402008, 24.93357658,\n",
       "       20.94292641, 21.97384834, 20.9145546 , 20.97964287, 20.93458176,\n",
       "       23.91028404, 21.941185  , 24.96647835, 24.90115166, 20.94340324,\n",
       "       18.94903183, 25.93278885, 26.92651749, 27.92692184, 27.92525291,\n",
       "       29.91867065, 23.93651009, 22.93968201, 19.9444294 , 21.94190025,\n",
       "       22.96686172, 20.94101906, 21.91734314, 20.94364166, 20.94388008,\n",
       "       20.9441185 , 19.96707916, 22.91917801, 21.9745636 , 20.91097832,\n",
       "       20.94244957, 20.97201347, 20.91574669, 21.95620537, 21.95501328,\n",
       "       20.94864845, 21.90947533, 21.96574211, 22.91464806, 21.941185  ,\n",
       "       29.91890907, 25.93302727, 22.95804024, 20.92385292, 20.96486092,\n",
       "       21.91948891, 20.94388008, 21.94142342, 21.96764946, 22.91345596,\n",
       "       21.94023132, 23.93746376, 23.93555641, 21.94094658, 21.97527885,\n",
       "       21.93236351, 22.91297913, 21.94333076, 24.96266365, 22.94707298,\n",
       "       29.88195419, 25.95567703, 22.91727066, 21.93689346, 23.96178246,\n",
       "       21.94905281, 22.92585373, 20.94864845, 22.9382515 , 23.91219139,\n",
       "       21.96025848, 21.94976807, 23.90742302, 21.94190025, 22.96972275,\n",
       "       21.91209793, 25.95639229, 21.91400528, 23.95582199, 22.92394638,\n",
       "       22.93467522, 22.93729782, 23.95558357, 25.91109276, 23.96273613,\n",
       "       23.93507957, 23.94342422, 22.90701866, 23.93579483, 27.957201  ,\n",
       "       21.94142342, 23.93746376, 22.90439606, 23.93770218, 22.96209335,\n",
       "       24.9080658 , 24.93333817, 22.93872833, 23.9379406 , 22.95732498,\n",
       "       24.91307259, 31.94284439, 27.89831161, 23.96893501, 23.92840385,\n",
       "       24.9080658 , 24.93596077, 24.96218681, 22.90606499, 24.96194839,\n",
       "       26.90148354, 24.95980263, 23.90813828, 23.93722534, 29.91890907,\n",
       "       25.95090866, 22.91870117, 24.95884895, 26.93009377, 24.93834496,\n",
       "       22.93968201, 25.89845657, 24.96504784, 25.92849731, 26.93200111,\n",
       "       25.92206001, 25.9039402 , 23.96941185, 25.89869499, 24.93286133,\n",
       "       23.9636898 , 25.90250969, 25.93421936, 24.95121956, 23.91529083,\n",
       "       23.96130562, 23.91052246, 24.95789528, 24.90973473, 25.93159676,\n",
       "       26.92651749, 29.91962433, 29.92081642, 24.93357658, 23.93603325,\n",
       "       24.93309975, 24.933815  , 26.92651749, 24.933815  , 24.96051788,\n",
       "       23.90956879, 24.93309975, 24.93357658, 25.96402168, 24.89948273,\n",
       "       24.95837212, 24.93453026, 25.90608597, 24.95265007, 24.91378784,\n",
       "       24.96600151, 25.92921257, 24.9004364 , 27.92620659, 27.95290947,\n",
       "       24.9068737 , 24.93214607, 26.92747116, 26.92866325, 24.93333817,\n",
       "       26.92914009, 25.95567703, 25.9308815 , 27.92000771, 25.91085434,\n",
       "       24.93309975, 27.9250145 , 26.92747116, 26.927948  , 29.92153168,\n",
       "       30.91716766, 30.91549873, 27.94671059, 25.9115696 , 26.9639492 ,\n",
       "       25.89344978, 26.94225311, 26.93939209, 26.90339088, 26.927948  ,\n",
       "       29.92153168, 25.92921257, 26.92890167, 27.9250145 , 26.95441246,\n",
       "       27.89735794, 27.92596817, 27.95362473, 27.89759636, 25.9642601 ,\n",
       "       29.88696098, 28.92327309, 26.95536613, 31.88610077, 28.94711494,\n",
       "       26.927948  , 25.90632439, 27.92477608, 25.95877647, 28.89657021,\n",
       "       28.95259857, 28.90324593, 25.92325211, 28.91850471, 26.9305706 ,\n",
       "       29.91867065, 33.90741348, 30.94387054, 29.89530563, 28.92255783,\n",
       "       26.92699432, 26.95631981, 29.89196777, 29.92081642, 26.92818642,\n",
       "       27.92572975, 26.92675591, 28.92446518, 26.95846558, 28.89204025,\n",
       "       27.92572975, 28.9208889 , 30.9176445 , 29.92105484, 27.92525291,\n",
       "       29.91938591, 33.9486599 , 31.90422058, 33.88023376, 30.95030785,\n",
       "       28.91898155, 28.92684937, 27.89354324, 29.91938591, 27.9250145 ,\n",
       "       28.95498276, 27.89282799, 29.92153168, 30.91573715, 33.90884399,\n",
       "       35.93993187, 28.88798714, 29.91938591, 29.9217701 , 28.92136574,\n",
       "       29.92105484, 27.9519558 , 28.89490128, 28.94306183, 28.92684937,\n",
       "       29.89554405, 29.92081642, 28.92279625, 27.92596817, 30.91692924,\n",
       "       29.94418144, 29.89530563, 27.92525291, 29.9217701 , 30.95197678,\n",
       "       29.8845768 , 27.95338631, 27.89616585, 33.91122818, 29.91938591,\n",
       "       28.92303467, 28.95021439, 28.9273262 , 29.88791466, 28.92160416,\n",
       "       30.91907501, 29.91914749, 33.91027451, 36.90099716, 33.90932083,\n",
       "       28.92255783, 30.91716766, 29.94656563, 32.9105854 , 35.87794304,\n",
       "       34.93499756, 35.87579727, 44.90089417, 34.88683701, 34.90567207,\n",
       "       36.90290451, 33.90932083, 30.91716766, 30.93743324, 29.93202209,\n",
       "       30.90548515, 31.91328049, 31.89539909, 30.95245361, 30.90286255,\n",
       "       30.89666367, 32.91273117, 30.9176445 , 30.91788292, 28.92112732,\n",
       "       31.91566467, 29.91986275, 31.91566467, 33.90932083, 35.90202332,\n",
       "       34.90710258, 36.90266609, 40.89021683, 41.88752174])"
      ]
     },
     "execution_count": 19,
     "metadata": {},
     "output_type": "execute_result"
    }
   ],
   "source": [
    "\n",
    "\n",
    "Dialer_WM=[]\n",
    "for j in N_WM:\n",
    "    Set = Matrix_Set(A,O,5,j)\n",
    "    Dialer_WM.append(Set.Performance())\n",
    "    \n",
    "Dialer_WM = np.array(Dialer_WM)\n",
    "Dialer_WM = Dialer_WM.T\n",
    "\n",
    "Dialer_WM"
   ]
  },
  {
   "cell_type": "code",
   "execution_count": 20,
   "metadata": {},
   "outputs": [
    {
     "data": {
      "text/plain": [
       "999"
      ]
     },
     "execution_count": 20,
     "metadata": {},
     "output_type": "execute_result"
    }
   ],
   "source": [
    "len(Dialer_WM)"
   ]
  },
  {
   "cell_type": "code",
   "execution_count": 21,
   "metadata": {},
   "outputs": [
    {
     "data": {
      "text/plain": [
       "<function matplotlib.pyplot.show(*args, **kw)>"
      ]
     },
     "execution_count": 21,
     "metadata": {},
     "output_type": "execute_result"
    },
    {
     "data": {
      "image/png": "[encoded data removed]",
      "text/plain": [
       "<Figure size 1440x1440 with 1 Axes>"
      ]
     },
     "metadata": {
      "needs_background": "light"
     },
     "output_type": "display_data"
    }
   ],
   "source": [
    "np.polyfit(N_WM,Dialer_WM,1)\n",
    "\n",
    "ynew_wm=np.poly1d(np.polyfit(N_WM,Dialer_WM,1))\n",
    "\n",
    "\n",
    "\n",
    "plt.figure(figsize=(20,20))\n",
    "plt.plot(N_WM,Dialer_WM,c='steelblue',label='5')\n",
    "plt.plot(N_WM,ynew_wm(N_WM),c='red')\n",
    "plt.xlabel('N', fontsize=15)\n",
    "plt.ylabel('Execution Time(ms)', fontsize=15)\n",
    "plt.legend(fontsize=15)\n",
    "plt.xticks(fontsize=13)\n",
    "plt.yticks(fontsize=13)\n",
    "plt.text(1000, 15, 'O(N)', horizontalalignment='center',verticalalignment='center')\n",
    "\n",
    "plt.show"
   ]
  },
  {
   "cell_type": "markdown",
   "metadata": {},
   "source": [
    "### g) How long will running your code for N = 10**7 take? You do not run your codefor this big number of digits! Use extrapolation to estimate the running time. Do you think we need to improve the performance of our code to execute it for large numbers?"
   ]
  },
  {
   "cell_type": "code",
   "execution_count": 22,
   "metadata": {
    "scrolled": true
   },
   "outputs": [
    {
     "name": "stdout",
     "output_type": "stream",
     "text": [
      "It will take 326255.40123964136 ms to run N=10000000\n"
     ]
    }
   ],
   "source": [
    "z = np.polyfit(N_WM,Dialer_WM,1)\n",
    "\n",
    "p = np.poly1d(z)\n",
    "\n",
    "n = 10**7\n",
    "\n",
    "print('It will take ' + str(p(n)) + ' ms to run N=' + str(n))\n",
    "\n",
    "\n"
   ]
  },
  {
   "cell_type": "markdown",
   "metadata": {},
   "source": [
    "### h) Write your own function which takes a decimal number and return the number in the binary system. Do not use bin() syntax of python."
   ]
  },
  {
   "cell_type": "code",
   "execution_count": 23,
   "metadata": {},
   "outputs": [],
   "source": [
    "def BinaryBin(x):\n",
    "    if x == 0: return [0]\n",
    "    bit = []\n",
    "    while x:\n",
    "            bit.append(x % 2)\n",
    "            x >>= 1\n",
    "    return bit[::-1]"
   ]
  },
  {
   "cell_type": "code",
   "execution_count": 24,
   "metadata": {},
   "outputs": [
    {
     "data": {
      "text/plain": [
       "[1, 0, 1, 1]"
      ]
     },
     "execution_count": 24,
     "metadata": {},
     "output_type": "execute_result"
    }
   ],
   "source": [
    "BinaryBin(11)"
   ]
  },
  {
   "cell_type": "markdown",
   "metadata": {},
   "source": [
    "### i) Implement the mentioned algorithm to rebuild your function in part d. This algorithm will allow us to speed up the execution time of the program. You will need to use your binary convert function in part h."
   ]
  },
  {
   "cell_type": "code",
   "execution_count": 25,
   "metadata": {},
   "outputs": [],
   "source": [
    "from matplotlib import pyplot as plt\n",
    "from scipy.interpolate import InterpolatedUnivariateSpline\n",
    "\n",
    "\n",
    "def BinaryBin(x):\n",
    "    if x == 0: return [0]\n",
    "    bit = []\n",
    "    while x:\n",
    "            bit.append(x % 2)\n",
    "            x >>= 1\n",
    "    return bit[::-1]\n",
    "\n",
    "def Dialer_Problem_2(S,N): \n",
    "    \"\"\"\n",
    "    This function solves the dialer problem\n",
    "    \n",
    "    \"\"\"\n",
    "    time_elapsed=[]\n",
    "    N_used=[]\n",
    "    \n",
    "    C = np.matrix\n",
    "    \n",
    "    A=np.matrix([[0,0,0,0,0,0,0,0,1,0],#0\n",
    "            [0,0,1,0,1,0,0,0,0,0],#1\n",
    "            [0,1,0,1,0,1,0,0,0,0],#2\n",
    "            [0,0,1,0,0,0,1,0,0,0],#3\n",
    "            [0,1,0,0,0,1,0,1,0,0],#4\n",
    "            [0,0,1,0,1,0,1,0,1,0],#5\n",
    "            [0,0,0,1,0,1,0,0,0,1],#6\n",
    "            [0,0,0,0,1,0,0,0,1,0],#7\n",
    "            [1,0,0,0,0,1,0,1,0,1],#8\n",
    "            [0,0,0,0,0,0,1,0,1,0]])#9\n",
    "   \n",
    "    O=np.matrix([[1],\n",
    "            [1],\n",
    "            [1],\n",
    "            [1],\n",
    "            [1],\n",
    "            [1],\n",
    "            [1],\n",
    "            [1],\n",
    "            [1],\n",
    "            [1]])\n",
    "    \n",
    "    \n",
    "    t1=time.time()\n",
    "    C = np.matrix \n",
    "    power=0\n",
    "       \n",
    "    C = A*O\n",
    "    if(S<0 or S>9 or N <= 0): \n",
    "        return 0\n",
    "    if(N == 1): \n",
    "        return 1\n",
    "    for i in reversed(BinaryBin(N-2)):\n",
    "         \n",
    "        C = ((A**(2**power))**i) * C\n",
    "        \n",
    "            #print((A**(2**power))**i)\n",
    "            #print(\"binary input : \" + str(i))\n",
    "            #print(\"power : \" + str(2**power))\n",
    "            #print(C)\n",
    "            #print(A**(2**power)**i)\n",
    "        power=power+1\n",
    "    t2=time.time()\n",
    "    print ('It took {s} seconds'.format(s=t2-t1))\n",
    "    return C[S]\n",
    "    \n",
    "    \n",
    "    \n",
    "    \n",
    "    #time_elapsed.append(t2)\n",
    "    #N_used.append(j)\n",
    "    \n",
    "    #plt.plot(N_used,time_elapsed)\n",
    "    #plt.xlabel('N')\n",
    "    #plt.ylabel('Execution Time(MS)')\n",
    "    #plt.title('Numpy')\n",
    "    #plt.show()\n",
    "    \n",
    "    \n",
    "    \n",
    "            #print('It took : '+str(t2-t1)+ ' seconds')\n",
    "        #print ('It took {s} seconds'.format(s=t2-t1))\n",
    "        #return(C[S])"
   ]
  },
  {
   "cell_type": "code",
   "execution_count": 26,
   "metadata": {},
   "outputs": [
    {
     "name": "stdout",
     "output_type": "stream",
     "text": [
      "It took 0.0 seconds\n"
     ]
    },
    {
     "data": {
      "text/plain": [
       "matrix([[2080033053]])"
      ]
     },
     "execution_count": 26,
     "metadata": {},
     "output_type": "execute_result"
    }
   ],
   "source": [
    "Dialer_Problem_2(5,1000)"
   ]
  },
  {
   "cell_type": "code",
   "execution_count": 27,
   "metadata": {},
   "outputs": [
    {
     "data": {
      "text/plain": [
       "[2080033053]"
      ]
     },
     "execution_count": 27,
     "metadata": {},
     "output_type": "execute_result"
    }
   ],
   "source": [
    "Dialer_Problem(5,1000)"
   ]
  },
  {
   "cell_type": "markdown",
   "metadata": {},
   "source": [
    "### j) Evaluate the algorithmic efficiency of your code in part h in the same way you did in part f. "
   ]
  },
  {
   "cell_type": "code",
   "execution_count": 30,
   "metadata": {},
   "outputs": [],
   "source": [
    "from matplotlib import pyplot as plt\n",
    "from scipy.interpolate import InterpolatedUnivariateSpline\n",
    "\n",
    "\n",
    "def BinaryBin(x):\n",
    "    if x == 0: return [0]\n",
    "    bit = []\n",
    "    while x:\n",
    "            bit.append(x % 2)\n",
    "            x >>= 1\n",
    "    return bit[::-1]\n",
    "\n",
    "def Dialer_Performance_2(S,N): \n",
    "    \"\"\"\n",
    "    This function solves the dialer problem\n",
    "    \n",
    "    \"\"\"\n",
    "    time_elapsed=[]\n",
    "    N_used=[]\n",
    "    \n",
    "    C = np.matrix\n",
    "    \n",
    "    A=np.matrix([[0,0,0,0,0,0,0,0,1,0],#0\n",
    "            [0,0,1,0,1,0,0,0,0,0],#1\n",
    "            [0,1,0,1,0,1,0,0,0,0],#2\n",
    "            [0,0,1,0,0,0,1,0,0,0],#3\n",
    "            [0,1,0,0,0,1,0,1,0,0],#4\n",
    "            [0,0,1,0,1,0,1,0,1,0],#5\n",
    "            [0,0,0,1,0,1,0,0,0,1],#6\n",
    "            [0,0,0,0,1,0,0,0,1,0],#7\n",
    "            [1,0,0,0,0,1,0,1,0,1],#8\n",
    "            [0,0,0,0,0,0,1,0,1,0]])#9\n",
    "   \n",
    "    O=np.matrix([[1],\n",
    "            [1],\n",
    "            [1],\n",
    "            [1],\n",
    "            [1],\n",
    "            [1],\n",
    "            [1],\n",
    "            [1],\n",
    "            [1],\n",
    "            [1]])\n",
    "    \n",
    "    \n",
    "    t1=time.time()\n",
    "    C = np.matrix \n",
    "    power=0\n",
    "       \n",
    "    C = A*O\n",
    "    if(S<0 or S>9 or N <= 0): \n",
    "        return((time.time() - t1)*1000)\n",
    "    if(N == 1): \n",
    "        return((time.time() - t1)*1000)\n",
    "    for i in reversed(BinaryBin(N-2)):\n",
    "         \n",
    "        C = ((A**(2**power))**i) * C\n",
    "            #print((A**(2**power))**i)\n",
    "            #print(\"binary input : \" + str(i))\n",
    "            #print(\"power : \" + str(2**power))\n",
    "            #print(C)\n",
    "            #print(A**(2**power)**i)\n",
    "        power=power+1\n",
    "    return((time.time() - t1)*1000)\n",
    "\n"
   ]
  },
  {
   "cell_type": "code",
   "execution_count": 36,
   "metadata": {},
   "outputs": [
    {
     "data": {
      "text/plain": [
       "array([0.        , 0.        , 0.        , ..., 0.99730492, 0.99635124,\n",
       "       0.99873543])"
      ]
     },
     "execution_count": 36,
     "metadata": {},
     "output_type": "execute_result"
    }
   ],
   "source": [
    "N=range(1,100000)\n",
    "\n",
    "Dialer=[]\n",
    "for j in N:\n",
    "    Dialer.append(Dialer_Performance_2(5,j))\n",
    "    \n",
    "Dialer = np.array(Dialer)\n",
    "Dialer = Dialer.T\n",
    "\n",
    "Dialer\n"
   ]
  },
  {
   "cell_type": "code",
   "execution_count": 37,
   "metadata": {},
   "outputs": [
    {
     "data": {
      "text/plain": [
       "<function matplotlib.pyplot.show(*args, **kw)>"
      ]
     },
     "execution_count": 37,
     "metadata": {},
     "output_type": "execute_result"
    },
    {
     "data": {
      "image/png": "[encoded data removed]",
      "text/plain": [
       "<Figure size 936x936 with 1 Axes>"
      ]
     },
     "metadata": {
      "needs_background": "light"
     },
     "output_type": "display_data"
    }
   ],
   "source": [
    "np.polyfit(N,Dialer,1)\n",
    "\n",
    "ynew=np.poly1d(np.polyfit(N,Dialer,1))\n",
    "\n",
    "\n",
    "\n",
    "plt.figure(figsize=(13,13))\n",
    "plt.plot(N,Dialer,c='steelblue',label='5')\n",
    "plt.plot(N,ynew(N),c='red')\n",
    "plt.xlabel('N', fontsize=15)\n",
    "plt.ylabel('Execution Time(ms)', fontsize=15)\n",
    "plt.legend(fontsize=15)\n",
    "plt.xticks(fontsize=13)\n",
    "plt.yticks(fontsize=13)\n",
    "\n",
    "plt.show"
   ]
  },
  {
   "cell_type": "markdown",
   "metadata": {},
   "source": [
    "### k)\n",
    "\n",
    "It's faster as N increases."
   ]
  },
  {
   "cell_type": "code",
   "execution_count": 55,
   "metadata": {},
   "outputs": [],
   "source": [
    "def BinaryBin(x):\n",
    "    if x == 0: return [0]\n",
    "    bit = []\n",
    "    while x:\n",
    "            bit.append(x % 2)\n",
    "            x >>= 1\n",
    "    return bit[::-1]\n",
    "\n",
    "def MatrixMultiplication(A,B):\n",
    "    \"\"\"\n",
    "    \n",
    "    A function which computes matrix multiplication of the first and second inputs. Inputs should be list-like.\n",
    "    \"\"\"\n",
    "    \n",
    "    if len(A[0]) ==len(B):\n",
    "        R=[[sum(x*y for x,y in zip(A_row,B_col)) for B_col in zip(*B)]\n",
    "           for A_row in A]\n",
    "        return R\n",
    "    else:\n",
    "             print(\"Matrix dimensions do not match\")\n",
    "            \n",
    "\n",
    "\n",
    "\n",
    "class Matrix_Set_Bin:\n",
    "    def __init__(self,A,O,S,N):\n",
    "        self.A=A\n",
    "        self.S = S\n",
    "        self.O = O\n",
    "        self.N = N\n",
    "        self.t1 = 0\n",
    "        self.t2 = 0\n",
    "        self.time_elapsed = []\n",
    "        self.N_used = []\n",
    "        self.power=0\n",
    "        \n",
    "    \n",
    "\n",
    "    \n",
    "    def Dialer_Problem_2(self):\n",
    "         # same function as problem c without numpy \n",
    "        \n",
    "        C = []    \n",
    "        self.t1 = time.time()\n",
    "        C = MatrixMultiplication(self.A,self.O)\n",
    "        if(self.S<0 or self.S>9 or self.N <= 0): \n",
    "            return 0\n",
    "        if(self.N == 1): \n",
    "            return 1\n",
    "        for i in reversed(BinaryBin(self.N-2)):\n",
    "            if i > 0:\n",
    "                rangep = 2**self.power\n",
    "\n",
    "                for p in range(1,rangep+1):\n",
    "                    C = MatrixMultiplication(self.A,C)\n",
    "            else:\n",
    "                next\n",
    "            self.power+=1\n",
    "            \n",
    "        self.t2 = time.time()\n",
    "            #print('It took : '+str(t2-t1)+ ' seconds')\n",
    "        print ('It took {s} seconds'.format(s=self.t2-self.t1))\n",
    "        return(C[self.S])\n",
    "    \n",
    "    \n",
    "    \n",
    "    def Performance(self):\n",
    "         \n",
    "        self.t1 = time.time()\n",
    "        C = MatrixMultiplication(self.A,self.O)\n",
    "        if(self.S<0 or self.S>9 or self.N <= 0): \n",
    "            return 0\n",
    "        if(self.N == 1): \n",
    "            return 1\n",
    "        for i in reversed(BinaryBin(self.N-2)):\n",
    "            if i > 0:\n",
    "                rangep = 2**self.power\n",
    "\n",
    "                for p in range(1,rangep+1):\n",
    "                    C = MatrixMultiplication(self.A,C)\n",
    "            else:\n",
    "                next\n",
    "            self.power+=1\n",
    "            \n",
    "        \n",
    "        self.t2 = time.time()\n",
    "        return((self.t2-self.t1)*1000)\n"
   ]
  },
  {
   "cell_type": "code",
   "execution_count": 61,
   "metadata": {},
   "outputs": [
    {
     "data": {
      "text/plain": [
       "<function matplotlib.pyplot.show(*args, **kw)>"
      ]
     },
     "execution_count": 61,
     "metadata": {},
     "output_type": "execute_result"
    },
    {
     "data": {
      "image/png": "[encoded data removed]",
      "text/plain": [
       "<Figure size 1440x1440 with 1 Axes>"
      ]
     },
     "metadata": {
      "needs_background": "light"
     },
     "output_type": "display_data"
    }
   ],
   "source": [
    "N_WM=range(1,10000)\n",
    "\n",
    "\n",
    "Dialer_WM=[]\n",
    "for j in N_WM:\n",
    "    Set_Bin = Matrix_Set_Bin(A,O,5,10)\n",
    "    Dialer_WM.append(Set_Bin.Performance())\n",
    "    \n",
    "Dialer_WM = np.array(Dialer_WM)\n",
    "Dialer_WM = Dialer_WM.T\n",
    "\n",
    "Dialer_WM\n",
    "\n",
    "len(Dialer_WM)\n",
    "\n",
    "np.polyfit(N_WM,Dialer_WM,1)\n",
    "\n",
    "ynew_wm=np.poly1d(np.polyfit(N_WM,Dialer_WM,1))\n",
    "\n",
    "\n",
    "\n",
    "plt.figure(figsize=(20,20))\n",
    "plt.plot(N_WM,Dialer_WM,c='steelblue',label='5')\n",
    "plt.plot(N_WM,ynew_wm(N_WM),c='red')\n",
    "plt.xlabel('N', fontsize=15)\n",
    "plt.ylabel('Execution Time(ms)', fontsize=15)\n",
    "plt.legend(fontsize=15)\n",
    "plt.xticks(fontsize=13)\n",
    "plt.yticks(fontsize=13)\n",
    "\n",
    "plt.show"
   ]
  },
  {
   "cell_type": "code",
   "execution_count": 54,
   "metadata": {},
   "outputs": [
    {
     "name": "stdout",
     "output_type": "stream",
     "text": [
      "It took 0.0 seconds\n"
     ]
    },
    {
     "data": {
      "text/plain": [
       "[18713]"
      ]
     },
     "execution_count": 54,
     "metadata": {},
     "output_type": "execute_result"
    }
   ],
   "source": [
    "Set_Bin.Dialer_Problem_2()"
   ]
  },
  {
   "cell_type": "markdown",
   "metadata": {},
   "source": [
    "\n",
    "## Problem 2"
   ]
  },
  {
   "cell_type": "markdown",
   "metadata": {},
   "source": [
    "### Create a 10 x 2 NumPy array which contains all elements in D. Find the covariance matrix of D using numpy.cov."
   ]
  },
  {
   "cell_type": "code",
   "execution_count": 63,
   "metadata": {},
   "outputs": [],
   "source": [
    "D = np.array([[1.72,0.10],\n",
    "              [-0.58,0.31],\n",
    "              [1.99,1.54],\n",
    "              [1.60,4.97],\n",
    "              [2.72,2.43],\n",
    "              [2.83,3.59],\n",
    "              [5.95,7.71],\n",
    "              [4.75,7.63],\n",
    "              [5.57,5.60],\n",
    "              [9.82,7.91]])"
   ]
  },
  {
   "cell_type": "code",
   "execution_count": 125,
   "metadata": {},
   "outputs": [
    {
     "data": {
      "text/plain": [
       "array([[8.70742333, 7.41923   ],\n",
       "       [7.41923   , 9.21336556]])"
      ]
     },
     "execution_count": 125,
     "metadata": {},
     "output_type": "execute_result"
    }
   ],
   "source": [
    "np.cov(D.T)"
   ]
  },
  {
   "cell_type": "markdown",
   "metadata": {},
   "source": [
    "### b) Find eigenvalues and corresponding eigenvectors of the covariance matrix using NumPy linear algebra function. Which eigenvector shows the direction with the most variance? Name this vector v."
   ]
  },
  {
   "cell_type": "code",
   "execution_count": null,
   "metadata": {},
   "outputs": [],
   "source": []
  },
  {
   "cell_type": "code",
   "execution_count": 126,
   "metadata": {},
   "outputs": [
    {
     "name": "stdout",
     "output_type": "stream",
     "text": [
      "eigenvalue is [ 1.53685296 16.38393593]\n",
      "eigenvector is [[-0.71905385 -0.69495436]\n",
      " [ 0.69495436 -0.71905385]]\n"
     ]
    }
   ],
   "source": [
    "eigenvalue, eigenvector = np.linalg.eig(np.cov(D.T))\n",
    "\n",
    "print(\"eigenvalue is \" + str(eigenvalue))\n",
    "print(\"eigenvector is \" + str(eigenvector))"
   ]
  },
  {
   "cell_type": "code",
   "execution_count": 128,
   "metadata": {},
   "outputs": [
    {
     "data": {
      "text/plain": [
       "array([-0.69495436, -0.71905385])"
      ]
     },
     "execution_count": 128,
     "metadata": {},
     "output_type": "execute_result"
    }
   ],
   "source": [
    "V = eigenvector.T[1]\n",
    "V\n"
   ]
  },
  {
   "cell_type": "markdown",
   "metadata": {},
   "source": [
    "the 7th eigenvector is the eigenvector with the largest eigenvalue (-2.87062781)"
   ]
  },
  {
   "cell_type": "code",
   "execution_count": 129,
   "metadata": {},
   "outputs": [
    {
     "data": {
      "text/plain": [
       "array([49.14783061, 50.85216939])"
      ]
     },
     "execution_count": 129,
     "metadata": {},
     "output_type": "execute_result"
    }
   ],
   "source": [
    "V/np.sum(V)*100 #to normalize"
   ]
  },
  {
   "cell_type": "markdown",
   "metadata": {},
   "source": [
    "### c) Use the dot product of matrix D and v to map all the data points to a direction which corresponds to the most variance."
   ]
  },
  {
   "cell_type": "code",
   "execution_count": 145,
   "metadata": {},
   "outputs": [
    {
     "data": {
      "text/plain": [
       "array([ -1.26722688,   0.18016683,  -2.4903021 ,  -4.68562461,\n",
       "        -3.63757671,  -4.54812416,  -9.67888362,  -8.78741408,\n",
       "        -7.89759734, -12.51216776])"
      ]
     },
     "execution_count": 145,
     "metadata": {},
     "output_type": "execute_result"
    }
   ],
   "source": [
    "np.dot(D,V)"
   ]
  },
  {
   "cell_type": "code",
   "execution_count": 242,
   "metadata": {},
   "outputs": [
    {
     "data": {
      "text/plain": [
       "<function matplotlib.pyplot.show(*args, **kw)>"
      ]
     },
     "execution_count": 242,
     "metadata": {},
     "output_type": "execute_result"
    },
    {
     "data": {
      "image/png": "[encoded data removed]",
      "text/plain": [
       "<Figure size 576x576 with 1 Axes>"
      ]
     },
     "metadata": {
      "needs_background": "light"
     },
     "output_type": "display_data"
    }
   ],
   "source": [
    "\n",
    "\n",
    "#plot data\n",
    "N=range(0,10)\n",
    "plt.figure(figsize=(8,8))\n",
    "ax = plt.axes()\n",
    "ax.arrow(2, 0, -15, 0, head_width=0.0004, head_length=0.1, width = 0.00003, color='red')\n",
    "plt.scatter(np.dot(D,V), np.zeros(10))\n",
    "plt.xlabel('N', fontsize=15)\n",
    "plt.ylabel('variance', fontsize=15)\n",
    "plt.xticks(fontsize=13)\n",
    "plt.yticks(fontsize=13)\n",
    "\n",
    "plt.show"
   ]
  },
  {
   "cell_type": "code",
   "execution_count": null,
   "metadata": {},
   "outputs": [],
   "source": []
  }
 ],
 "metadata": {
  "kernelspec": {
   "display_name": "Python 3",
   "language": "python",
   "name": "python3"
  },
  "language_info": {
   "codemirror_mode": {
    "name": "ipython",
    "version": 3
   },
   "file_extension": ".py",
   "mimetype": "text/x-python",
   "name": "python",
   "nbconvert_exporter": "python",
   "pygments_lexer": "ipython3",
   "version": "3.7.3"
  }
 },
 "nbformat": 4,
 "nbformat_minor": 2
}
