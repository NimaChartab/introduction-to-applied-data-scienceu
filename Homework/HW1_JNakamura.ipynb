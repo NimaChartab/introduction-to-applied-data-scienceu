{
 "cells": [
  {
   "cell_type": "markdown",
   "metadata": {},
   "source": [
    "# Problem 1"
   ]
  },
  {
   "cell_type": "markdown",
   "metadata": {},
   "source": [
    "## a) "
   ]
  },
  {
   "cell_type": "markdown",
   "metadata": {},
   "source": [
    "a) Given Ω(S, N) where S is the starting digit and N is the number of digit to be dialed and the result should be the number of distinct numbers that could be dialed. Also given A, a 10 X 10 matrix having a 1 for all allowable moves from i to j = 1. \n",
    "\n",
    "It follows that all possible moves can be represented as branches in a tree, dependent on the moves before it. Therefore, given a starting place S, the number of possible numbers having N digits can be found by determining the number of possible digits for N-1 and determining how many allowable moves exist from there. The sum of all possible branches from 1 digit to N digits will give the number of distinct numbers that could be dialed. \n",
    "\n",
    " \n",
    "\n",
    "Ω(S, N) = Ω(S, 0) + Ω(S, 1) + … + Ω(S, N-1) = SUM (for k∈{j|ASj=1} ) of Ω(k, N − 1) "
   ]
  },
  {
   "cell_type": "markdown",
   "metadata": {},
   "source": [
    "## b) "
   ]
  },
  {
   "cell_type": "markdown",
   "metadata": {},
   "source": [
    "b) Given that Ω(N) = A x Ω(N − 1),  \n",
    "Ω(N − 1) = A x Ω(N − 2) x … x Ω(1) = A x A x A … x Ω(1) "
   ]
  },
  {
   "cell_type": "markdown",
   "metadata": {},
   "source": [
    "## c) Create a NumPy matrix for A. Transpose is equal to A. I expected this because after making a move, that same move can be made backwards."
   ]
  },
  {
   "cell_type": "code",
   "execution_count": 1,
   "metadata": {},
   "outputs": [],
   "source": [
    "import numpy as np"
   ]
  },
  {
   "cell_type": "code",
   "execution_count": 2,
   "metadata": {},
   "outputs": [],
   "source": [
    "A=[ [0,0,0,0,0,0,0,0,1,0],\n",
    "    [0,0,1,0,1,0,0,0,0,0],\n",
    "    [0,1,0,1,0,1,0,0,0,0],\n",
    "    [0,0,1,0,0,0,1,0,0,0],\n",
    "    [0,1,0,0,0,1,0,1,0,0],\n",
    "    [0,0,1,0,1,0,1,0,1,0],\n",
    "    [0,0,0,1,0,1,0,0,0,1],\n",
    "    [0,0,0,0,1,0,0,0,1,0],\n",
    "    [1,0,0,0,0,1,0,1,0,1],\n",
    "    [0,0,0,0,0,0,1,0,1,0]]"
   ]
  },
  {
   "cell_type": "code",
   "execution_count": 3,
   "metadata": {},
   "outputs": [
    {
     "data": {
      "text/plain": [
       "array([[ True,  True,  True,  True,  True,  True,  True,  True,  True,\n",
       "         True],\n",
       "       [ True,  True,  True,  True,  True,  True,  True,  True,  True,\n",
       "         True],\n",
       "       [ True,  True,  True,  True,  True,  True,  True,  True,  True,\n",
       "         True],\n",
       "       [ True,  True,  True,  True,  True,  True,  True,  True,  True,\n",
       "         True],\n",
       "       [ True,  True,  True,  True,  True,  True,  True,  True,  True,\n",
       "         True],\n",
       "       [ True,  True,  True,  True,  True,  True,  True,  True,  True,\n",
       "         True],\n",
       "       [ True,  True,  True,  True,  True,  True,  True,  True,  True,\n",
       "         True],\n",
       "       [ True,  True,  True,  True,  True,  True,  True,  True,  True,\n",
       "         True],\n",
       "       [ True,  True,  True,  True,  True,  True,  True,  True,  True,\n",
       "         True],\n",
       "       [ True,  True,  True,  True,  True,  True,  True,  True,  True,\n",
       "         True]])"
      ]
     },
     "execution_count": 3,
     "metadata": {},
     "output_type": "execute_result"
    }
   ],
   "source": [
    "A_transpose=np.transpose(A)\n",
    "A_transpose==A"
   ]
  },
  {
   "cell_type": "markdown",
   "metadata": {},
   "source": [
    "## D) Create Dialer_Problem"
   ]
  },
  {
   "cell_type": "code",
   "execution_count": 4,
   "metadata": {},
   "outputs": [],
   "source": [
    "def Dialer_Problem(S,N):\n",
    "    # define omega(1)\n",
    "    Om_one=np.matrix([[1],[1],[1],[1],[1],[1],[1],[1],[1],[1]])\n",
    "    \n",
    "    # define A, the matrix of allowable moves\n",
    "    A=[ [0,0,0,0,0,0,0,0,1,0],\n",
    "    [0,0,1,0,1,0,0,0,0,0],\n",
    "    [0,1,0,1,0,1,0,0,0,0],\n",
    "    [0,0,1,0,0,0,1,0,0,0],\n",
    "    [0,1,0,0,0,1,0,1,0,0],\n",
    "    [0,0,1,0,1,0,1,0,1,0],\n",
    "    [0,0,0,1,0,1,0,0,0,1],\n",
    "    [0,0,0,0,1,0,0,0,1,0],\n",
    "    [1,0,0,0,0,1,0,1,0,1],\n",
    "    [0,0,0,0,0,0,1,0,1,0]]\n",
    "    \n",
    "    # set output to Om_one\n",
    "    output = Om_one\n",
    "    # loop as defined by N\n",
    "    if N==1:\n",
    "        return output[S,0]\n",
    "    else:\n",
    "        for i in range(1,N):\n",
    "            output = A * output\n",
    "        return output[S,0]"
   ]
  },
  {
   "cell_type": "code",
   "execution_count": 5,
   "metadata": {},
   "outputs": [
    {
     "data": {
      "text/plain": [
       "18713"
      ]
     },
     "execution_count": 5,
     "metadata": {},
     "output_type": "execute_result"
    }
   ],
   "source": [
    "Dialer_Problem(5,10)"
   ]
  },
  {
   "cell_type": "code",
   "execution_count": 6,
   "metadata": {},
   "outputs": [
    {
     "data": {
      "text/plain": [
       "9"
      ]
     },
     "execution_count": 6,
     "metadata": {},
     "output_type": "execute_result"
    }
   ],
   "source": [
    "Dialer_Problem(0,4)"
   ]
  },
  {
   "cell_type": "markdown",
   "metadata": {},
   "source": [
    "## E) Rewrite without NumPy"
   ]
  },
  {
   "cell_type": "code",
   "execution_count": 7,
   "metadata": {},
   "outputs": [],
   "source": [
    "def Dialer_No_Numpy(S,N):\n",
    "    A=[ [0,0,0,0,0,0,0,0,1,0],\n",
    "    [0,0,1,0,1,0,0,0,0,0],\n",
    "    [0,1,0,1,0,1,0,0,0,0],\n",
    "    [0,0,1,0,0,0,1,0,0,0],\n",
    "    [0,1,0,0,0,1,0,1,0,0],\n",
    "    [0,0,1,0,1,0,1,0,1,0],\n",
    "    [0,0,0,1,0,1,0,0,0,1],\n",
    "    [0,0,0,0,1,0,0,0,1,0],\n",
    "    [1,0,0,0,0,1,0,1,0,1],\n",
    "    [0,0,0,0,0,0,1,0,1,0]]\n",
    "    \n",
    "    Om_one=[[1],[1],[1],[1],[1],[1],[1],[1],[1],[1]]\n",
    "    \n",
    "    output = Om_one\n",
    "    # loop as defined by N\n",
    "    if N==1:\n",
    "        return output[S]\n",
    "    else:\n",
    "        for i in range(1,N):\n",
    "            output = [[sum(x*y for x,y in zip(A_row,output_col)) for output_col in zip(*output)] for A_row in A]\n",
    "        return output[S]"
   ]
  },
  {
   "cell_type": "code",
   "execution_count": 8,
   "metadata": {},
   "outputs": [
    {
     "data": {
      "text/plain": [
       "[1]"
      ]
     },
     "execution_count": 8,
     "metadata": {},
     "output_type": "execute_result"
    }
   ],
   "source": [
    "Dialer_No_Numpy(1,1)"
   ]
  },
  {
   "cell_type": "markdown",
   "metadata": {},
   "source": [
    "## f) evaluate and plot efficiency of NumPy code"
   ]
  },
  {
   "cell_type": "code",
   "execution_count": 9,
   "metadata": {},
   "outputs": [],
   "source": [
    "import time\n",
    "import matplotlib.pylab as plt"
   ]
  },
  {
   "cell_type": "code",
   "execution_count": 10,
   "metadata": {},
   "outputs": [],
   "source": [
    "def Dialer_Problem_timed(S,N):\n",
    "    t1=time.time()\n",
    "    # define omega(1)\n",
    "    Om_one=np.matrix([[1],[1],[1],[1],[1],[1],[1],[1],[1],[1]])\n",
    "    \n",
    "    # define A, the matrix of allowable moves\n",
    "    A=[ [0,0,0,0,0,0,0,0,1,0],\n",
    "    [0,0,1,0,1,0,0,0,0,0],\n",
    "    [0,1,0,1,0,1,0,0,0,0],\n",
    "    [0,0,1,0,0,0,1,0,0,0],\n",
    "    [0,1,0,0,0,1,0,1,0,0],\n",
    "    [0,0,1,0,1,0,1,0,1,0],\n",
    "    [0,0,0,1,0,1,0,0,0,1],\n",
    "    [0,0,0,0,1,0,0,0,1,0],\n",
    "    [1,0,0,0,0,1,0,1,0,1],\n",
    "    [0,0,0,0,0,0,1,0,1,0]]\n",
    "    \n",
    "    # set output to Om_one\n",
    "    output = Om_one\n",
    "    # loop as defined by N\n",
    "    if N==1:\n",
    "        return time.time()-t1\n",
    "    else:\n",
    "        for i in range(1,N):\n",
    "            output = A * output\n",
    "        return time.time()-t1"
   ]
  },
  {
   "cell_type": "code",
   "execution_count": 11,
   "metadata": {},
   "outputs": [
    {
     "data": {
      "text/plain": [
       "0.004118919372558594"
      ]
     },
     "execution_count": 11,
     "metadata": {},
     "output_type": "execute_result"
    }
   ],
   "source": [
    "Dialer_Problem_timed(5,10)"
   ]
  },
  {
   "cell_type": "code",
   "execution_count": 12,
   "metadata": {},
   "outputs": [],
   "source": [
    "def Plot_Dialer_Times():\n",
    "    N=range(1,1000)\n",
    "    times=[]\n",
    "    for i in range(1,1000):\n",
    "        times.append(Dialer_Problem_timed(0,i))\n",
    "    #return output\n",
    "    times=np.array(times)\n",
    "    \n",
    "    plt.figure(figsize=(8,8))\n",
    "    plt.plot(N,times,c='darkblue')\n",
    "    plt.xlabel('N', fontsize=15)\n",
    "    plt.ylabel('Execution Time (ms)', fontsize=15)\n",
    "    plt.legend(fontsize=15)\n",
    "    plt.xticks(fontsize=13)\n",
    "    plt.yticks(fontsize=13)\n",
    "\n",
    "    plt.show()\n",
    "    "
   ]
  },
  {
   "cell_type": "code",
   "execution_count": 13,
   "metadata": {},
   "outputs": [
    {
     "data": {
      "image/png": "[encoded data removed]",
      "text/plain": [
       "<Figure size 576x576 with 1 Axes>"
      ]
     },
     "metadata": {
      "needs_background": "light"
     },
     "output_type": "display_data"
    }
   ],
   "source": [
    "Plot_Dialer_Times()"
   ]
  },
  {
   "cell_type": "markdown",
   "metadata": {},
   "source": [
    "## g) Extrapolate runtime for N=10^7"
   ]
  },
  {
   "cell_type": "code",
   "execution_count": 14,
   "metadata": {},
   "outputs": [
    {
     "data": {
      "text/plain": [
       "0.00010585784912109375"
      ]
     },
     "execution_count": 14,
     "metadata": {},
     "output_type": "execute_result"
    }
   ],
   "source": [
    "Dialer_Problem_timed(0,1)"
   ]
  },
  {
   "cell_type": "code",
   "execution_count": 15,
   "metadata": {},
   "outputs": [
    {
     "data": {
      "text/plain": [
       "0.05164909362792969"
      ]
     },
     "execution_count": 15,
     "metadata": {},
     "output_type": "execute_result"
    }
   ],
   "source": [
    "Dialer_Problem_timed(0,1000)"
   ]
  },
  {
   "cell_type": "code",
   "execution_count": 16,
   "metadata": {},
   "outputs": [
    {
     "name": "stdout",
     "output_type": "stream",
     "text": [
      "Runtime (min): 13.4416666725\n"
     ]
    }
   ],
   "source": [
    "Runtime= 0.00035 + (0.081-0.00035)*10000000\n",
    "Runtime_minutes=(Runtime/1000)/60\n",
    "print \"Runtime (min):\", Runtime_minutes"
   ]
  },
  {
   "cell_type": "markdown",
   "metadata": {},
   "source": [
    "Runtime is 13.4 minutes"
   ]
  },
  {
   "cell_type": "markdown",
   "metadata": {},
   "source": [
    "## h) write a function to convert from decimal number to binary"
   ]
  },
  {
   "cell_type": "code",
   "execution_count": 17,
   "metadata": {},
   "outputs": [],
   "source": [
    "def decimalToBinary(n):  \n",
    "    \n",
    "    # init list\n",
    "    output_list = []\n",
    "    output_str = ''\n",
    "    \n",
    "    # divides by 2, appending remainders to list\n",
    "    while n // 2>0:\n",
    "        output_list.append(n%2)\n",
    "        n= int(n // 2)\n",
    "    \n",
    "    # account for case when the last remainder is 1\n",
    "    if n // 2 == 0:\n",
    "        output_list.append(1)\n",
    "    \n",
    "    # print reverse list of remainders to generate binary\n",
    "    for i in reversed(output_list):\n",
    "        output_str = output_str + str(i)\n",
    "    \n",
    "    return int(output_str)"
   ]
  },
  {
   "cell_type": "code",
   "execution_count": 18,
   "metadata": {},
   "outputs": [
    {
     "data": {
      "text/plain": [
       "10110"
      ]
     },
     "execution_count": 18,
     "metadata": {},
     "output_type": "execute_result"
    }
   ],
   "source": [
    "decimalToBinary(22)"
   ]
  },
  {
   "cell_type": "markdown",
   "metadata": {},
   "source": [
    "## i) rebuild dialer_problem with binary exponential representation"
   ]
  },
  {
   "cell_type": "code",
   "execution_count": 19,
   "metadata": {},
   "outputs": [],
   "source": [
    "def Dialer_Problem_Bin(S,N):\n",
    "    # define Omega(1)\n",
    "    Om_one=np.matrix([[1],[1],[1],[1],[1],[1],[1],[1],[1],[1]])\n",
    "    \n",
    "    output = Om_one\n",
    "    \n",
    "    # if N==1, return value now and skip rest of program\n",
    "    if N==1:\n",
    "        return output[S,0]\n",
    "    \n",
    "    # define A, the matrix of allowable moves\n",
    "    A=np.matrix([ [0,0,0,0,0,0,0,0,1,0],\n",
    "    [0,0,1,0,1,0,0,0,0,0],\n",
    "    [0,1,0,1,0,1,0,0,0,0],\n",
    "    [0,0,1,0,0,0,1,0,0,0],\n",
    "    [0,1,0,0,0,1,0,1,0,0],\n",
    "    [0,0,1,0,1,0,1,0,1,0],\n",
    "    [0,0,0,1,0,1,0,0,0,1],\n",
    "    [0,0,0,0,1,0,0,0,1,0],\n",
    "    [1,0,0,0,0,1,0,1,0,1],\n",
    "    [0,0,0,0,0,0,1,0,1,0]])\n",
    "    \n",
    "    # convert N-1 to binary number\n",
    "    n=N-1\n",
    "    bin_list=[]\n",
    "    \n",
    "    while n // 2>0:\n",
    "        bin_list.append(n%2)\n",
    "        n= int(n // 2)\n",
    "    if n // 2 == 0:\n",
    "        bin_list.append(1)\n",
    "        #bin_list now holds reversed binary rep of N-1\n",
    "    # print bin_list\n",
    "    \n",
    "    A_base = A\n",
    "    \n",
    "    # loop through array to produce A term by binary representation\n",
    "    for i in bin_list:\n",
    "        # output init as Om_one\n",
    "        output = (A_base ** i) * output\n",
    "        \n",
    "        # multiply A_base by itself to get next term\n",
    "        A_base = A_base * A_base\n",
    "        \n",
    "    return output[S,0]"
   ]
  },
  {
   "cell_type": "code",
   "execution_count": 20,
   "metadata": {},
   "outputs": [
    {
     "data": {
      "text/plain": [
       "18713"
      ]
     },
     "execution_count": 20,
     "metadata": {},
     "output_type": "execute_result"
    }
   ],
   "source": [
    "Dialer_Problem_Bin(5,10)"
   ]
  },
  {
   "cell_type": "code",
   "execution_count": 21,
   "metadata": {},
   "outputs": [
    {
     "data": {
      "text/plain": [
       "matrix([[ 76],\n",
       "        [131],\n",
       "        [210],\n",
       "        [131],\n",
       "        [216],\n",
       "        [273],\n",
       "        [216],\n",
       "        [142],\n",
       "        [253],\n",
       "        [142]])"
      ]
     },
     "execution_count": 21,
     "metadata": {},
     "output_type": "execute_result"
    }
   ],
   "source": [
    "A=np.matrix([ [0,0,0,0,0,0,0,0,1,0],\n",
    "    [0,0,1,0,1,0,0,0,0,0],\n",
    "    [0,1,0,1,0,1,0,0,0,0],\n",
    "    [0,0,1,0,0,0,1,0,0,0],\n",
    "    [0,1,0,0,0,1,0,1,0,0],\n",
    "    [0,0,1,0,1,0,1,0,1,0],\n",
    "    [0,0,0,1,0,1,0,0,0,1],\n",
    "    [0,0,0,0,1,0,0,0,1,0],\n",
    "    [1,0,0,0,0,1,0,1,0,1],\n",
    "    [0,0,0,0,0,0,1,0,1,0]])\n",
    "Om_one=np.matrix([[1],[1],[1],[1],[1],[1],[1],[1],[1],[1]])\n",
    "(A **2) * (A **3) *Om_one"
   ]
  },
  {
   "cell_type": "markdown",
   "metadata": {},
   "source": [
    "## j)  time the binary implementation"
   ]
  },
  {
   "cell_type": "code",
   "execution_count": 22,
   "metadata": {},
   "outputs": [],
   "source": [
    "def Dialer_Bin_Timed(S,N):\n",
    "    t1=time.time()\n",
    "    \n",
    "    # define Omega(1)\n",
    "    Om_one=np.matrix([[1],[1],[1],[1],[1],[1],[1],[1],[1],[1]])\n",
    "    \n",
    "    output = Om_one\n",
    "    \n",
    "    # if N==1, return value now and skip rest of program\n",
    "    if N==1:\n",
    "        return output[S,0]\n",
    "    \n",
    "    # define A, the matrix of allowable moves\n",
    "    A=np.matrix([ [0,0,0,0,0,0,0,0,1,0],\n",
    "    [0,0,1,0,1,0,0,0,0,0],\n",
    "    [0,1,0,1,0,1,0,0,0,0],\n",
    "    [0,0,1,0,0,0,1,0,0,0],\n",
    "    [0,1,0,0,0,1,0,1,0,0],\n",
    "    [0,0,1,0,1,0,1,0,1,0],\n",
    "    [0,0,0,1,0,1,0,0,0,1],\n",
    "    [0,0,0,0,1,0,0,0,1,0],\n",
    "    [1,0,0,0,0,1,0,1,0,1],\n",
    "    [0,0,0,0,0,0,1,0,1,0]])\n",
    "    \n",
    "    # convert N-1 to binary number\n",
    "    n=N-1\n",
    "    bin_list=[]\n",
    "    \n",
    "    while n // 2>0:\n",
    "        bin_list.append(n%2)\n",
    "        n= int(n // 2)\n",
    "    if n // 2 == 0:\n",
    "        bin_list.append(1)\n",
    "        #bin_list now holds reversed binary rep of N-1\n",
    "    \n",
    "    A_base = A\n",
    "    \n",
    "    # loop through array to produce A term by binary representation\n",
    "    for i in bin_list:\n",
    "        # output init as Om_one\n",
    "        output = (A_base ** i) * output\n",
    "        \n",
    "        # multiply A_base by itself to get next term\n",
    "        A_base = A_base * A_base\n",
    "        \n",
    "    return time.time()-t1"
   ]
  },
  {
   "cell_type": "code",
   "execution_count": 23,
   "metadata": {},
   "outputs": [],
   "source": [
    "def Plot_Bin_Dialer_Times():\n",
    "    N=range(1,1000)\n",
    "    times=[]\n",
    "    for i in range(1,1000):\n",
    "        times.append(Dialer_Bin_Timed(0,i))\n",
    "    #return output\n",
    "    times=np.array(times)\n",
    "    \n",
    "    plt.figure(figsize=(8,8))\n",
    "    plt.plot(N,times,c='darkblue')\n",
    "    plt.xlabel('N', fontsize=15)\n",
    "    plt.ylabel('Execution Time (ms)', fontsize=15)\n",
    "    plt.legend(fontsize=15)\n",
    "    plt.xticks(fontsize=13)\n",
    "    plt.yticks(fontsize=13)\n",
    "\n",
    "    plt.show()"
   ]
  },
  {
   "cell_type": "code",
   "execution_count": 24,
   "metadata": {},
   "outputs": [
    {
     "data": {
      "image/png": "[encoded data removed]",
      "text/plain": [
       "<Figure size 576x576 with 1 Axes>"
      ]
     },
     "metadata": {
      "needs_background": "light"
     },
     "output_type": "display_data"
    }
   ],
   "source": [
    "Plot_Bin_Dialer_Times()"
   ]
  },
  {
   "cell_type": "markdown",
   "metadata": {},
   "source": [
    "## k) Execution time is much faster."
   ]
  },
  {
   "cell_type": "markdown",
   "metadata": {},
   "source": [
    "# Problem 2"
   ]
  },
  {
   "cell_type": "markdown",
   "metadata": {},
   "source": [
    "## a) create NumPy matrix and find covariance"
   ]
  },
  {
   "cell_type": "code",
   "execution_count": 25,
   "metadata": {},
   "outputs": [
    {
     "data": {
      "text/plain": [
       "matrix([[ 1.72,  0.1 ],\n",
       "        [-0.58,  0.31],\n",
       "        [ 1.99,  1.54],\n",
       "        [ 1.6 ,  4.97],\n",
       "        [ 2.72,  2.43],\n",
       "        [ 2.83,  3.59],\n",
       "        [ 5.95,  7.71],\n",
       "        [ 4.75,  7.63],\n",
       "        [ 5.57,  5.6 ],\n",
       "        [ 9.82,  7.91]])"
      ]
     },
     "execution_count": 25,
     "metadata": {},
     "output_type": "execute_result"
    }
   ],
   "source": [
    "D = np.matrix([[1.72, 0.10],[-0.58,0.31],[1.99,1.54],[1.60,4.97],[2.72,2.43],[2.83,3.59],[5.95,7.71],[4.75,7.63],[5.57,5.60],[9.82,7.91]])\n",
    "D"
   ]
  },
  {
   "cell_type": "code",
   "execution_count": 30,
   "metadata": {},
   "outputs": [
    {
     "data": {
      "text/plain": [
       "array([[8.70742333, 7.41923   ],\n",
       "       [7.41923   , 9.21336556]])"
      ]
     },
     "execution_count": 30,
     "metadata": {},
     "output_type": "execute_result"
    }
   ],
   "source": [
    "D_cov = np.cov(D.T)\n",
    "D_cov"
   ]
  },
  {
   "cell_type": "markdown",
   "metadata": {},
   "source": [
    "## b) find eigenvalues and corresponding eigenvectors of D_cov using NumPy. Name eigenvector with the most variance v"
   ]
  },
  {
   "cell_type": "code",
   "execution_count": 31,
   "metadata": {
    "scrolled": false
   },
   "outputs": [
    {
     "data": {
      "text/plain": [
       "(array([ 1.53685296, 16.38393593]), array([[-0.71905385, -0.69495436],\n",
       "        [ 0.69495436, -0.71905385]]))"
      ]
     },
     "execution_count": 31,
     "metadata": {},
     "output_type": "execute_result"
    }
   ],
   "source": [
    "from numpy import linalg as LA\n",
    "E = LA.eig(D_cov)\n",
    "E\n",
    "# find eigenvector with the highest eigenvalue"
   ]
  },
  {
   "cell_type": "markdown",
   "metadata": {},
   "source": [
    "Highest Eigenvalue is the second one, therefore second eigenvector shows the direction with the most variance."
   ]
  },
  {
   "cell_type": "code",
   "execution_count": 33,
   "metadata": {},
   "outputs": [
    {
     "data": {
      "text/plain": [
       "array([-0.69495436, -0.71905385])"
      ]
     },
     "execution_count": 33,
     "metadata": {},
     "output_type": "execute_result"
    }
   ],
   "source": [
    "v=E[1].T[1]\n",
    "v"
   ]
  },
  {
   "cell_type": "markdown",
   "metadata": {},
   "source": [
    "## c) take dot product of D and v"
   ]
  },
  {
   "cell_type": "code",
   "execution_count": 34,
   "metadata": {},
   "outputs": [
    {
     "data": {
      "text/plain": [
       "matrix([[ -1.26722688,   0.18016683,  -2.4903021 ,  -4.68562461,\n",
       "          -3.63757671,  -4.54812416,  -9.67888362,  -8.78741408,\n",
       "          -7.89759734, -12.51216776]])"
      ]
     },
     "execution_count": 34,
     "metadata": {},
     "output_type": "execute_result"
    }
   ],
   "source": [
    "output = np.dot(D,v)\n",
    "output"
   ]
  },
  {
   "cell_type": "code",
   "execution_count": null,
   "metadata": {},
   "outputs": [],
   "source": []
  }
 ],
 "metadata": {
  "kernelspec": {
   "display_name": "PHY247",
   "language": "python",
   "name": "phy247"
  },
  "language_info": {
   "codemirror_mode": {
    "name": "ipython",
    "version": 2
   },
   "file_extension": ".py",
   "mimetype": "text/x-python",
   "name": "python",
   "nbconvert_exporter": "python",
   "pygments_lexer": "ipython2",
   "version": "2.7.17"
  }
 },
 "nbformat": 4,
 "nbformat_minor": 2
}
