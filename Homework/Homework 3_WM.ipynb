{
 "cells": [
  {
   "cell_type": "code",
   "execution_count": 1,
   "metadata": {},
   "outputs": [],
   "source": [
    "import numpy as np"
   ]
  },
  {
   "cell_type": "markdown",
   "metadata": {},
   "source": [
    "### A) Write a Python code to implement the Metropolis-Hastings algorithm"
   ]
  },
  {
   "cell_type": "code",
   "execution_count": 2,
   "metadata": {},
   "outputs": [],
   "source": [
    "def MCMC(log_Posterior,data,initial,step_cov,n_iteration):\n",
    "    param1=np.array(initial)\n",
    "    sample=np.array(initial)\n",
    "    for j in range(n_iteration):\n",
    "        log_Posterior_i=log_Posterior(data,param1)\n",
    "        #update the location\n",
    "        param2=np.random.multivariate_normal(param1,step_cov)\n",
    "        #find new posterior\n",
    "        log_Posterior_f=log_Posterior(data,param2)\n",
    "        # generate a random number between 0 and 1\n",
    "        rand=np.random.rand()\n",
    "        if log_Posterior_f-log_Posterior_i>np.log(rand):\n",
    "            sample=np.vstack((sample,param2))\n",
    "            param1=param2[:]\n",
    "        else:\n",
    "            sample=np.vstack((sample,param1))\n",
    "    return(sample) "
   ]
  },
  {
   "cell_type": "code",
   "execution_count": 3,
   "metadata": {},
   "outputs": [],
   "source": [
    "import pandas as pd\n",
    "\n",
    "data=pd.read_csv('tweet_counts.csv')"
   ]
  },
  {
   "cell_type": "code",
   "execution_count": 4,
   "metadata": {},
   "outputs": [
    {
     "data": {
      "text/html": [
       "<div>\n",
       "<style scoped>\n",
       "    .dataframe tbody tr th:only-of-type {\n",
       "        vertical-align: middle;\n",
       "    }\n",
       "\n",
       "    .dataframe tbody tr th {\n",
       "        vertical-align: top;\n",
       "    }\n",
       "\n",
       "    .dataframe thead th {\n",
       "        text-align: right;\n",
       "    }\n",
       "</style>\n",
       "<table border=\"1\" class=\"dataframe\">\n",
       "  <thead>\n",
       "    <tr style=\"text-align: right;\">\n",
       "      <th></th>\n",
       "      <th>week</th>\n",
       "      <th>count</th>\n",
       "    </tr>\n",
       "  </thead>\n",
       "  <tbody>\n",
       "    <tr>\n",
       "      <th>0</th>\n",
       "      <td>1</td>\n",
       "      <td>39.0</td>\n",
       "    </tr>\n",
       "    <tr>\n",
       "      <th>1</th>\n",
       "      <td>2</td>\n",
       "      <td>46.0</td>\n",
       "    </tr>\n",
       "    <tr>\n",
       "      <th>2</th>\n",
       "      <td>3</td>\n",
       "      <td>41.0</td>\n",
       "    </tr>\n",
       "    <tr>\n",
       "      <th>3</th>\n",
       "      <td>4</td>\n",
       "      <td>42.0</td>\n",
       "    </tr>\n",
       "    <tr>\n",
       "      <th>4</th>\n",
       "      <td>5</td>\n",
       "      <td>31.0</td>\n",
       "    </tr>\n",
       "  </tbody>\n",
       "</table>\n",
       "</div>"
      ],
      "text/plain": [
       "   week  count\n",
       "0     1   39.0\n",
       "1     2   46.0\n",
       "2     3   41.0\n",
       "3     4   42.0\n",
       "4     5   31.0"
      ]
     },
     "execution_count": 4,
     "metadata": {},
     "output_type": "execute_result"
    }
   ],
   "source": [
    "data.head()"
   ]
  },
  {
   "cell_type": "code",
   "execution_count": 5,
   "metadata": {},
   "outputs": [],
   "source": [
    "k=data['count'].values\n",
    "w=data['week'].values"
   ]
  },
  {
   "cell_type": "code",
   "execution_count": 6,
   "metadata": {},
   "outputs": [],
   "source": [
    "Poisson=lambda k,λ : (λ**k)/np.math.factorial(k)*np.exp(-λ)"
   ]
  },
  {
   "cell_type": "code",
   "execution_count": 7,
   "metadata": {},
   "outputs": [],
   "source": [
    "α = 1/np.mean(k)"
   ]
  },
  {
   "cell_type": "code",
   "execution_count": 8,
   "metadata": {},
   "outputs": [],
   "source": [
    "def log_posterior(data,param):\n",
    "    k,w=data\n",
    "    lamb1,lamb2,W_s=param\n",
    "    \n",
    "    P=0\n",
    "    \n",
    "    for i in k[w<W_s]:\n",
    "        P=P+np.log(Poisson(i,lamb1)*α*np.exp(-α*lamb1))\n",
    "        \n",
    "    for j in k[w>=W_s]:\n",
    "        P=P+np.log(Poisson(j,lamb2)*α*np.exp(-α*lamb2))\n",
    "        \n",
    "    return(P)"
   ]
  },
  {
   "cell_type": "code",
   "execution_count": 9,
   "metadata": {},
   "outputs": [],
   "source": [
    "D = MCMC(log_posterior,data=[k,w],initial=[20,20,20],step_cov=[[0.25,0,0],[0,0.25,0],[0,0,0.5]],n_iteration=10000)"
   ]
  },
  {
   "cell_type": "code",
   "execution_count": 10,
   "metadata": {},
   "outputs": [
    {
     "data": {
      "text/plain": [
       "array([[20.        , 20.        , 20.        ],\n",
       "       [20.        , 20.        , 20.        ],\n",
       "       [21.03932828, 20.37302741, 20.16330299],\n",
       "       [21.03932828, 20.37302741, 20.16330299],\n",
       "       [21.00196747, 20.83283029, 20.69100775],\n",
       "       [21.23452373, 20.73721847, 21.49931916],\n",
       "       [21.23452373, 20.73721847, 21.49931916],\n",
       "       [22.00732197, 20.84019021, 20.96075818],\n",
       "       [22.70740909, 20.83109322, 20.66733691]])"
      ]
     },
     "execution_count": 10,
     "metadata": {},
     "output_type": "execute_result"
    }
   ],
   "source": [
    "D[1:10,:]"
   ]
  },
  {
   "cell_type": "markdown",
   "metadata": {},
   "source": [
    "### B) Are the posteriors consistent with those you found in the previous homework?"
   ]
  },
  {
   "cell_type": "code",
   "execution_count": 11,
   "metadata": {},
   "outputs": [],
   "source": [
    "import matplotlib.pylab as plt\n",
    "plt.rcParams['figure.figsize']=8,6"
   ]
  },
  {
   "cell_type": "code",
   "execution_count": 12,
   "metadata": {},
   "outputs": [
    {
     "data": {
      "image/png": "[encoded data removed]",
      "text/plain": [
       "<Figure size 432x288 with 1 Axes>"
      ]
     },
     "metadata": {
      "needs_background": "light"
     },
     "output_type": "display_data"
    }
   ],
   "source": [
    "plt.plot(D.T[0],D.T[1])\n",
    "plt.xlabel(\"$\\lambda_1$\",fontsize=20)\n",
    "plt.ylabel(\"$\\lambda_2$\",fontsize=20)\n",
    "plt.show()"
   ]
  },
  {
   "cell_type": "code",
   "execution_count": 13,
   "metadata": {},
   "outputs": [
    {
     "data": {
      "image/png": "[encoded data removed]",
      "text/plain": [
       "<Figure size 432x288 with 1 Axes>"
      ]
     },
     "metadata": {
      "needs_background": "light"
     },
     "output_type": "display_data"
    }
   ],
   "source": [
    "plt.plot(D.T[0])\n",
    "plt.ylabel(\"$\\lambda_1$\",fontsize=20)\n",
    "plt.xlabel(\"n_iterations\",fontsize=20)\n",
    "plt.vlines(100,20,40,color='red',linewidth=5)\n",
    "plt.xscale('log')"
   ]
  },
  {
   "cell_type": "code",
   "execution_count": 14,
   "metadata": {},
   "outputs": [
    {
     "data": {
      "image/png": "[encoded data removed]",
      "text/plain": [
       "<Figure size 432x288 with 1 Axes>"
      ]
     },
     "metadata": {
      "needs_background": "light"
     },
     "output_type": "display_data"
    }
   ],
   "source": [
    "plt.plot(D.T[0][100:],D.T[1][100:])\n",
    "plt.xlabel(\"$\\lambda_1$\",fontsize=20)\n",
    "plt.ylabel(\"$\\lambda_2$\",fontsize=20)\n",
    "plt.show()"
   ]
  },
  {
   "cell_type": "code",
   "execution_count": 15,
   "metadata": {},
   "outputs": [
    {
     "data": {
      "text/plain": [
       "<function matplotlib.pyplot.show(*args, **kw)>"
      ]
     },
     "execution_count": 15,
     "metadata": {},
     "output_type": "execute_result"
    },
    {
     "data": {
      "image/png": "[encoded data removed]",
      "text/plain": [
       "<Figure size 432x288 with 1 Axes>"
      ]
     },
     "metadata": {
      "needs_background": "light"
     },
     "output_type": "display_data"
    }
   ],
   "source": [
    "plt.hist(D.T[0][100:],label='λ1')\n",
    "plt.hist(D.T[1][100:],label='λ2')\n",
    "plt.xlabel(\"λ1\", fontsize=20)\n",
    "plt.legend(fontsize=20)\n",
    "plt.show\n"
   ]
  },
  {
   "cell_type": "code",
   "execution_count": 16,
   "metadata": {},
   "outputs": [
    {
     "name": "stdout",
     "output_type": "stream",
     "text": [
      "mean(λ1 is) 35.90342868683033\n",
      "std(λ1 is) 1.1046408521537372\n"
     ]
    }
   ],
   "source": [
    "print('mean(λ1 is)', np.mean(D.T[0][100:]))\n",
    "print('std(λ1 is)', np.std(D.T[0][100:]))"
   ]
  },
  {
   "cell_type": "code",
   "execution_count": 17,
   "metadata": {},
   "outputs": [
    {
     "name": "stdout",
     "output_type": "stream",
     "text": [
      "mean(λ2 is) 41.48234680934315\n",
      "std(λ2 is) 1.8116689631141836\n"
     ]
    }
   ],
   "source": [
    "print('mean(λ2 is)', np.mean(D.T[1][100:]))\n",
    "print('std(λ2 is)', np.std(D.T[1][100:]))"
   ]
  },
  {
   "cell_type": "code",
   "execution_count": 18,
   "metadata": {},
   "outputs": [
    {
     "name": "stdout",
     "output_type": "stream",
     "text": [
      "mean(W_s is) 34.0\n"
     ]
    }
   ],
   "source": [
    "print('mean(W_s is)', np.round(np.mean(D.T[2][100:])))"
   ]
  },
  {
   "cell_type": "markdown",
   "metadata": {},
   "source": [
    "####  posteriors are consistent with homework #2"
   ]
  },
  {
   "cell_type": "markdown",
   "metadata": {},
   "source": [
    "### C) As you did in part g of homework 2, find P(( λ1- λ2) > 5)"
   ]
  },
  {
   "cell_type": "markdown",
   "metadata": {},
   "source": [
    "P(34.8<λ1<37.0)=68.2% (1 standard deviation)\n",
    "P(39.8<λ2<43.2)=68.2% (1 standard deviation) \n",
    "\n",
    "With the assumption that lamb 1 and lamb 2 posterior distributions are gaussian like based on the histogram\n",
    "\n",
    "They both have similar distributions so their multiplied distribution would be similar as well meaning Bob would have a 68.2% probability that his weekly tweet counts have increased by five at some point.\n",
    "\n"
   ]
  },
  {
   "cell_type": "markdown",
   "metadata": {},
   "source": [
    "## Problem 2: K-means Clustering"
   ]
  },
  {
   "cell_type": "markdown",
   "metadata": {},
   "source": [
    "### a, b) write and implement python code for K-means clustering in euclidean space"
   ]
  },
  {
   "cell_type": "code",
   "execution_count": 19,
   "metadata": {},
   "outputs": [],
   "source": [
    "\n",
    "import pandas as pd\n",
    "import numpy as np\n",
    "import matplotlib.pylab as plt\n",
    "from matplotlib import style\n",
    "import random\n",
    "import math\n",
    "import sklearn\n",
    "\n",
    "\n",
    "style.use('ggplot')"
   ]
  },
  {
   "cell_type": "code",
   "execution_count": 20,
   "metadata": {},
   "outputs": [],
   "source": [
    "#start with k centers (4 centers)\n",
    "from sklearn.datasets import make_blobs\n",
    "\n",
    "X,Y = make_blobs(n_samples=500, cluster_std=0.8,centers=3, n_features=3,random_state=0)"
   ]
  },
  {
   "cell_type": "code",
   "execution_count": 32,
   "metadata": {},
   "outputs": [
    {
     "data": {
      "text/plain": [
       "<matplotlib.collections.PathCollection at 0x20b4b1b4c50>"
      ]
     },
     "execution_count": 32,
     "metadata": {},
     "output_type": "execute_result"
    },
    {
     "data": {
      "image/png": "[encoded data removed]",
      "text/plain": [
       "<Figure size 432x288 with 1 Axes>"
      ]
     },
     "metadata": {
      "needs_background": "light"
     },
     "output_type": "display_data"
    }
   ],
   "source": [
    "# plot the data\n",
    "plt.scatter(X[:,0],X[:,1], color = 'steelblue')"
   ]
  },
  {
   "cell_type": "code",
   "execution_count": 22,
   "metadata": {},
   "outputs": [],
   "source": [
    "import pandas as pd\n",
    "import numpy as np\n",
    "import matplotlib.pyplot as plt\n",
    "from copy import deepcopy\n",
    "%matplotlib inline"
   ]
  },
  {
   "cell_type": "code",
   "execution_count": 23,
   "metadata": {},
   "outputs": [
    {
     "data": {
      "text/html": [
       "<div>\n",
       "<style scoped>\n",
       "    .dataframe tbody tr th:only-of-type {\n",
       "        vertical-align: middle;\n",
       "    }\n",
       "\n",
       "    .dataframe tbody tr th {\n",
       "        vertical-align: top;\n",
       "    }\n",
       "\n",
       "    .dataframe thead th {\n",
       "        text-align: right;\n",
       "    }\n",
       "</style>\n",
       "<table border=\"1\" class=\"dataframe\">\n",
       "  <thead>\n",
       "    <tr style=\"text-align: right;\">\n",
       "      <th></th>\n",
       "      <th>x</th>\n",
       "      <th>y</th>\n",
       "    </tr>\n",
       "  </thead>\n",
       "  <tbody>\n",
       "    <tr>\n",
       "      <th>0</th>\n",
       "      <td>0.029140</td>\n",
       "      <td>-2.541718</td>\n",
       "    </tr>\n",
       "    <tr>\n",
       "      <th>1</th>\n",
       "      <td>-1.852313</td>\n",
       "      <td>8.584712</td>\n",
       "    </tr>\n",
       "    <tr>\n",
       "      <th>2</th>\n",
       "      <td>0.963818</td>\n",
       "      <td>-0.708849</td>\n",
       "    </tr>\n",
       "    <tr>\n",
       "      <th>3</th>\n",
       "      <td>-0.687670</td>\n",
       "      <td>8.488246</td>\n",
       "    </tr>\n",
       "    <tr>\n",
       "      <th>4</th>\n",
       "      <td>1.867022</td>\n",
       "      <td>-2.120719</td>\n",
       "    </tr>\n",
       "  </tbody>\n",
       "</table>\n",
       "</div>"
      ],
      "text/plain": [
       "          x         y\n",
       "0  0.029140 -2.541718\n",
       "1 -1.852313  8.584712\n",
       "2  0.963818 -0.708849\n",
       "3 -0.687670  8.488246\n",
       "4  1.867022 -2.120719"
      ]
     },
     "execution_count": 23,
     "metadata": {},
     "output_type": "execute_result"
    }
   ],
   "source": [
    "\n",
    "# build dataframe for holding values, distances, and closest centroids\n",
    "df = pd.DataFrame({\n",
    "    'x' : X[:,0],\n",
    "    'y' : X[:,1]})\n",
    "df.head()"
   ]
  },
  {
   "cell_type": "code",
   "execution_count": 24,
   "metadata": {},
   "outputs": [
    {
     "data": {
      "text/plain": [
       "{1: [0, -3], 2: [8, 9], 3: [-6, -4]}"
      ]
     },
     "execution_count": 24,
     "metadata": {},
     "output_type": "execute_result"
    }
   ],
   "source": [
    "#find centroid of each cluster\n",
    "# centroids[i] = [x, y]\n",
    "\n",
    "k=3\n",
    "\n",
    "centroids = {\n",
    "    i+1: [np.random.randint(-10, 10), np.random.randint(-10, 10)]\n",
    "    for i in range(k)\n",
    "}\n",
    "centroids\n"
   ]
  },
  {
   "cell_type": "code",
   "execution_count": 25,
   "metadata": {},
   "outputs": [],
   "source": [
    "def assign(df, centroids):\n",
    "    \n",
    "    for i in centroids.keys():\n",
    "        # sqrt((x1 - x2)^2 + (y1 - y2)^2)\n",
    "        df['distance_from_{}'.format(i)] = (\n",
    "            np.sqrt(\n",
    "                (df['x'] - centroids[i][0]) ** 2\n",
    "                + (df['y'] - centroids[i][1]) ** 2\n",
    "            )\n",
    "        )\n",
    "    centroid_distance_cols = ['distance_from_{}'.format(i) for i in centroids.keys()]\n",
    "    df['closest'] = df.loc[:, centroid_distance_cols].idxmin(axis=1)\n",
    "    df['closest'] = df['closest'].map(lambda x: int(x.lstrip('distance_from_')))\n",
    "    return df"
   ]
  },
  {
   "cell_type": "code",
   "execution_count": 26,
   "metadata": {},
   "outputs": [
    {
     "name": "stdout",
     "output_type": "stream",
     "text": [
      "          x         y  distance_from_1  distance_from_2  distance_from_3  \\\n",
      "0  0.029140 -2.541718         0.459208        14.026612         6.202992   \n",
      "1 -1.852313  8.584712        11.731864         9.861062        13.250596   \n",
      "2  0.963818 -0.708849         2.485622        11.990397         7.702366   \n",
      "3 -0.687670  8.488246        11.508809         8.702729        13.571188   \n",
      "4  1.867022 -2.120719         2.063712        12.699756         8.088370   \n",
      "\n",
      "   closest  \n",
      "0        1  \n",
      "1        2  \n",
      "2        1  \n",
      "3        2  \n",
      "4        1  \n"
     ]
    }
   ],
   "source": [
    "\n",
    "#closest centroids to k centers\n",
    "df = assign(df, centroids)\n",
    "print(df.head())"
   ]
  },
  {
   "cell_type": "markdown",
   "metadata": {},
   "source": [
    "### b) Considering 3 clusters, apply your function in part a to the dataset you have created."
   ]
  },
  {
   "cell_type": "code",
   "execution_count": 27,
   "metadata": {},
   "outputs": [],
   "source": [
    "# update closest centroid \n",
    "def update(k,df):\n",
    "    for i in centroids.keys():\n",
    "        centroids[i][0] = np.mean(df[df['closest'] == i]['x'])\n",
    "        centroids[i][1] = np.mean(df[df['closest'] == i]['y'])\n",
    "    return k\n",
    "\n",
    "while True:\n",
    "    closest_centroids = df['closest'].copy(deep=True)\n",
    "    centroids = update(centroids,df)\n",
    "    df = assign(df, centroids)\n",
    "    if closest_centroids.equals(df['closest']):\n",
    "        break"
   ]
  },
  {
   "cell_type": "code",
   "execution_count": 28,
   "metadata": {},
   "outputs": [
    {
     "data": {
      "text/html": [
       "<div>\n",
       "<style scoped>\n",
       "    .dataframe tbody tr th:only-of-type {\n",
       "        vertical-align: middle;\n",
       "    }\n",
       "\n",
       "    .dataframe tbody tr th {\n",
       "        vertical-align: top;\n",
       "    }\n",
       "\n",
       "    .dataframe thead th {\n",
       "        text-align: right;\n",
       "    }\n",
       "</style>\n",
       "<table border=\"1\" class=\"dataframe\">\n",
       "  <thead>\n",
       "    <tr style=\"text-align: right;\">\n",
       "      <th></th>\n",
       "      <th>x</th>\n",
       "      <th>y</th>\n",
       "    </tr>\n",
       "  </thead>\n",
       "  <tbody>\n",
       "    <tr>\n",
       "      <th>0</th>\n",
       "      <td>0.029140</td>\n",
       "      <td>-2.541718</td>\n",
       "    </tr>\n",
       "    <tr>\n",
       "      <th>1</th>\n",
       "      <td>-1.852313</td>\n",
       "      <td>8.584712</td>\n",
       "    </tr>\n",
       "    <tr>\n",
       "      <th>2</th>\n",
       "      <td>0.963818</td>\n",
       "      <td>-0.708849</td>\n",
       "    </tr>\n",
       "    <tr>\n",
       "      <th>3</th>\n",
       "      <td>-0.687670</td>\n",
       "      <td>8.488246</td>\n",
       "    </tr>\n",
       "    <tr>\n",
       "      <th>4</th>\n",
       "      <td>1.867022</td>\n",
       "      <td>-2.120719</td>\n",
       "    </tr>\n",
       "  </tbody>\n",
       "</table>\n",
       "</div>"
      ],
      "text/plain": [
       "          x         y\n",
       "0  0.029140 -2.541718\n",
       "1 -1.852313  8.584712\n",
       "2  0.963818 -0.708849\n",
       "3 -0.687670  8.488246\n",
       "4  1.867022 -2.120719"
      ]
     },
     "execution_count": 28,
     "metadata": {},
     "output_type": "execute_result"
    }
   ],
   "source": [
    "# build dataframe for holding values, distances, and closest centroids\n",
    "df_c = pd.DataFrame({\n",
    "    'x' : X[:,0],\n",
    "    'y' : X[:,1]})\n",
    "df_c.head()\n",
    "\n",
    "\n"
   ]
  },
  {
   "cell_type": "code",
   "execution_count": 29,
   "metadata": {},
   "outputs": [
    {
     "name": "stdout",
     "output_type": "stream",
     "text": [
      "            x         y  distance_from_1  distance_from_2  distance_from_3  \\\n",
      "0    0.029140 -2.541718         1.270491         8.577656         1.584480   \n",
      "1   -1.852313  8.584712        10.148202         3.113303        11.033376   \n",
      "2    0.963818 -0.708849         0.851187         6.822320         1.329996   \n",
      "3   -0.687670  8.488246         9.862443         2.530578        10.643564   \n",
      "4    1.867022 -2.120719         1.700025         8.381891         0.421825   \n",
      "5   -1.906008  7.334180         8.945684         2.252851         9.867276   \n",
      "6    1.039453  4.948653         6.301902         1.549622         6.893442   \n",
      "7   -1.042213 -1.324716         1.410972         7.424698         2.604304   \n",
      "8    0.840078 -1.471982         0.496022         7.561786         0.795730   \n",
      "9    0.048575 -0.986797         0.460261         7.023138         1.723244   \n",
      "10   1.573717 -1.994256         1.382038         8.195228         0.104921   \n",
      "11  -1.742260  8.032639         9.585436         2.607950        10.474095   \n",
      "12  -1.343444  7.083409         8.573569         1.652931         9.448509   \n",
      "13   0.675789 -1.904613         0.662596         7.974534         0.815381   \n",
      "14  -0.526224  6.806908         8.173508         0.898741         8.966707   \n",
      "15  -0.477148  4.153375         5.535839         1.926600         6.393760   \n",
      "16   0.996873 -0.798587         0.814723         6.916043         1.234517   \n",
      "17   0.300807 -2.633584         1.317881         8.676726         1.382410   \n",
      "18   0.129518  8.204300         9.524759         2.177604        10.225313   \n",
      "19   0.184142  5.801703         7.121550         0.341756         7.841332   \n",
      "20   0.107630  4.815576         6.138587         1.232026         6.885918   \n",
      "21   0.233743  5.496365         6.815157         0.616400         7.531999   \n",
      "22  -1.766174  7.974844         9.534395         2.579664        10.426583   \n",
      "23   0.972955 -1.221273         0.611822         7.330577         0.877741   \n",
      "24   0.829468  4.617634         5.952944         1.676471         6.580943   \n",
      "25   0.215643 -1.217520         0.182827         7.258375         1.460681   \n",
      "26   1.783666  4.874499         6.351559         2.183130         6.810798   \n",
      "27  -0.162095  3.642618         4.988398         2.394762         5.812576   \n",
      "28  -1.104310  7.238858         8.682187         1.589971         9.529030   \n",
      "29   0.339321  3.183354         4.500905         2.880610         5.241395   \n",
      "..        ...       ...              ...              ...              ...   \n",
      "470 -2.036143  7.500481         9.139992         2.455811        10.068420   \n",
      "471 -1.751888  8.735529        10.274217         3.183629        11.147571   \n",
      "472  1.180496 -0.702630         1.018311         6.852232         1.265980   \n",
      "473  0.746646 -3.118084         1.839858         9.189435         1.401882   \n",
      "474 -0.763630  5.777293         7.184546         0.744600         8.030236   \n",
      "475  0.488857 -3.104193         1.790772         9.156392         1.543559   \n",
      "476  1.534229 -1.800972         1.261805         7.997950         0.136148   \n",
      "477  0.766932  4.160284         5.492192         2.051484         6.133146   \n",
      "478  1.733730 -2.864847         2.063400         9.080248         0.965903   \n",
      "479 -0.952995  7.685835         9.099792         1.874045         9.921505   \n",
      "480  0.520656  4.444097         5.763554         1.695742         6.447497   \n",
      "481  0.521546 -0.919045         0.426708         6.979173         1.400512   \n",
      "482 -1.113964  7.093933         8.541069         1.490083         9.392337   \n",
      "483 -0.819929  7.435388         8.833187         1.590447         9.646234   \n",
      "484  0.730378  4.010568         5.340282         2.175540         5.989035   \n",
      "485  0.517435  3.996846         5.316380         2.120201         6.006236   \n",
      "486 -1.066431 -1.129053         1.447485         7.234095         2.679705   \n",
      "487  1.817216 -2.653565         1.970603         8.890555         0.793796   \n",
      "488 -0.184896 -1.550060         0.600515         7.586424         1.718205   \n",
      "489  1.707235  3.765559         5.256292         2.879896         5.699670   \n",
      "490 -2.365060  8.439300        10.132518         3.326857        11.062993   \n",
      "491  0.507612  5.053834         6.372803         1.136498         7.052697   \n",
      "492  1.835180 -1.535652         1.482584         7.805932         0.523568   \n",
      "493 -1.489977  8.374461         9.868540         2.738813        10.726919   \n",
      "494 -0.058637  4.845409         6.177665         1.190029         6.950311   \n",
      "495  0.886762 -1.747858         0.673493         7.841278         0.630878   \n",
      "496  1.335245  2.478536         3.917101         3.822653         4.411278   \n",
      "497 -1.453060  8.269627         9.758642         2.630176        10.615956   \n",
      "498 -0.011245 -3.192608         1.913266         9.228185         1.962204   \n",
      "499  1.029728 -1.049554         0.713215         7.169081         0.993855   \n",
      "\n",
      "     closest  \n",
      "0          1  \n",
      "1          2  \n",
      "2          1  \n",
      "3          2  \n",
      "4          3  \n",
      "5          2  \n",
      "6          2  \n",
      "7          1  \n",
      "8          1  \n",
      "9          1  \n",
      "10         3  \n",
      "11         2  \n",
      "12         2  \n",
      "13         1  \n",
      "14         2  \n",
      "15         2  \n",
      "16         1  \n",
      "17         1  \n",
      "18         2  \n",
      "19         2  \n",
      "20         2  \n",
      "21         2  \n",
      "22         2  \n",
      "23         1  \n",
      "24         2  \n",
      "25         1  \n",
      "26         2  \n",
      "27         2  \n",
      "28         2  \n",
      "29         2  \n",
      "..       ...  \n",
      "470        2  \n",
      "471        2  \n",
      "472        1  \n",
      "473        3  \n",
      "474        2  \n",
      "475        3  \n",
      "476        3  \n",
      "477        2  \n",
      "478        3  \n",
      "479        2  \n",
      "480        2  \n",
      "481        1  \n",
      "482        2  \n",
      "483        2  \n",
      "484        2  \n",
      "485        2  \n",
      "486        1  \n",
      "487        3  \n",
      "488        1  \n",
      "489        2  \n",
      "490        2  \n",
      "491        2  \n",
      "492        3  \n",
      "493        2  \n",
      "494        2  \n",
      "495        3  \n",
      "496        2  \n",
      "497        2  \n",
      "498        1  \n",
      "499        1  \n",
      "\n",
      "[500 rows x 6 columns]\n"
     ]
    }
   ],
   "source": [
    "\n",
    "k = 3\n",
    "# centroids[i] = [x, y]\n",
    "centroids = {\n",
    "    i+1: [np.random.randint(-5, 5), np.random.randint(-5, 5)]\n",
    "    for i in range(k)\n",
    "}\n",
    "centroids\n",
    "\n",
    "df_c = assign(df_c, centroids)\n",
    "\n",
    "while True:\n",
    "    closest_centroids = df_c['closest'].copy(deep=True)\n",
    "    centroids = update(centroids,df_c)\n",
    "    df_c = assign(df_c, centroids)\n",
    "    if closest_centroids.equals(df_c['closest']):\n",
    "        break\n",
    "\n",
    "print(df_c)"
   ]
  },
  {
   "cell_type": "markdown",
   "metadata": {},
   "source": [
    "### c) Explain a method where we can determine optimal number of clusters in K-means algorithm."
   ]
  },
  {
   "cell_type": "markdown",
   "metadata": {},
   "source": [
    "We can find the optimal number of clusters using the elbow method. We need to run the algorithm for various numbers of k, i.e.1-10 and calculate the total within-cluster sum of square. Then plot the curve for k and sum of square. We will pick the k value for where the graph begins to bend."
   ]
  },
  {
   "cell_type": "code",
   "execution_count": 31,
   "metadata": {},
   "outputs": [
    {
     "data": {
      "image/png": "[encoded data removed]",
      "text/plain": [
       "<Figure size 432x288 with 1 Axes>"
      ]
     },
     "metadata": {
      "needs_background": "light"
     },
     "output_type": "display_data"
    }
   ],
   "source": [
    "from sklearn.cluster import KMeans\n",
    "\n",
    "wcss = []\n",
    "for i in range(1, 11):\n",
    "    kmeans = KMeans(n_clusters=i, init='k-means++', max_iter=300, n_init=10, random_state=0)\n",
    "    kmeans.fit(X)\n",
    "    wcss.append(kmeans.inertia_)\n",
    "plt.plot(range(1, 11), wcss,color='steelblue')\n",
    "plt.title('Elbow Method')\n",
    "plt.xlabel('Number of clusters')\n",
    "plt.ylabel('WCSS')\n",
    "plt.vlines(3,0,14000,color='red',linewidth=2)\n",
    "plt.show()"
   ]
  },
  {
   "cell_type": "code",
   "execution_count": null,
   "metadata": {},
   "outputs": [],
   "source": []
  }
 ],
 "metadata": {
  "kernelspec": {
   "display_name": "Python 3",
   "language": "python",
   "name": "python3"
  },
  "language_info": {
   "codemirror_mode": {
    "name": "ipython",
    "version": 3
   },
   "file_extension": ".py",
   "mimetype": "text/x-python",
   "name": "python",
   "nbconvert_exporter": "python",
   "pygments_lexer": "ipython3",
   "version": "3.7.3"
  }
 },
 "nbformat": 4,
 "nbformat_minor": 2
}
