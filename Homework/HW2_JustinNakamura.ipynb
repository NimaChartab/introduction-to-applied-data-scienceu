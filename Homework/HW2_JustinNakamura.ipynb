{
 "cells": [
  {
   "cell_type": "markdown",
   "metadata": {},
   "source": [
    "## 1a) read in tweet_counts.csv using pandas, find mean tweet count"
   ]
  },
  {
   "cell_type": "code",
   "execution_count": 1,
   "metadata": {},
   "outputs": [],
   "source": [
    "#import sys\n",
    "#!{sys.executable} -m pip install matplotlib"
   ]
  },
  {
   "cell_type": "code",
   "execution_count": 18,
   "metadata": {},
   "outputs": [],
   "source": [
    "import pandas as pd\n",
    "import numpy as np\n",
    "import matplotlib.pylab as plt"
   ]
  },
  {
   "cell_type": "code",
   "execution_count": 19,
   "metadata": {},
   "outputs": [
    {
     "data": {
      "text/plain": [
       "38.76923076923077"
      ]
     },
     "execution_count": 19,
     "metadata": {},
     "output_type": "execute_result"
    }
   ],
   "source": [
    "tweet_counts=pd.read_csv('/home/justin/Documents/PHYS247/tweet_counts.csv')\n",
    "tweet_counts[\"count\"].mean()"
   ]
  },
  {
   "cell_type": "markdown",
   "metadata": {},
   "source": [
    "## 1b) Use matplotlib.pyplot.bar to create the same figure"
   ]
  },
  {
   "cell_type": "code",
   "execution_count": 20,
   "metadata": {},
   "outputs": [
    {
     "data": {
      "text/plain": [
       "Text(0.5, 1.0, 'Weekly tweet counts')"
      ]
     },
     "execution_count": 20,
     "metadata": {},
     "output_type": "execute_result"
    },
    {
     "data": {
      "image/png": "[encoded data removed]",
      "text/plain": [
       "<Figure size 1080x216 with 1 Axes>"
      ]
     },
     "metadata": {
      "needs_background": "light"
     },
     "output_type": "display_data"
    }
   ],
   "source": [
    "plt.figure(figsize=(15,3))\n",
    "plt.bar(np.arange(1,53),tweet_counts[\"count\"], color='blue',edgecolor='black')\n",
    "plt.xlim(0,53)\n",
    "plt.xlabel('Week',fontsize=15)\n",
    "plt.ylabel('tweet counts',fontsize=15)\n",
    "plt.hlines(tweet_counts[\"count\"].mean(),1,52,colors='red',linestyles='dashed')\n",
    "\n",
    "plt.title('Weekly tweet counts', fontsize=20)"
   ]
  },
  {
   "cell_type": "code",
   "execution_count": 21,
   "metadata": {},
   "outputs": [
    {
     "data": {
      "text/plain": [
       "array([39., 46., 41., 42., 31., 44., 33., 42., 31., 28., 36., 40., 33.,\n",
       "       45., 42., 28., 34., 42., 45., 37., 39., 35., 28., 30., 24., 40.,\n",
       "       22., 46., 37., 37., 38., 36., 41., 38., 42., 43., 30., 45., 46.,\n",
       "       51., 55., 36., 42., 44., 36., 44., 41., 38., 38., 56., 39., 40.])"
      ]
     },
     "execution_count": 21,
     "metadata": {},
     "output_type": "execute_result"
    }
   ],
   "source": [
    "# convert tweet_counts into numpy array\n",
    "tweet_data=np.array(tweet_counts[\"count\"])\n",
    "tweet_data"
   ]
  },
  {
   "cell_type": "markdown",
   "metadata": {},
   "source": [
    "# c) Prove explicitly that the expected value of $\\lambda$ is $1/\\alpha$"
   ]
  },
  {
   "cell_type": "markdown",
   "metadata": {},
   "source": [
    "Expected value of λ = $\\int λ P(λ) dλ$"
   ]
  },
  {
   "cell_type": "markdown",
   "metadata": {},
   "source": [
    "= $\\int λ \\alpha e^{-\\lambda\\alpha} d\\lambda$"
   ]
  },
  {
   "cell_type": "markdown",
   "metadata": {},
   "source": [
    "= $ (1/2) λ^2 \\alpha \\lambda (1/ \\alpha) $"
   ]
  },
  {
   "cell_type": "markdown",
   "metadata": {},
   "source": [
    "= $1/\\alpha$"
   ]
  },
  {
   "cell_type": "markdown",
   "metadata": {},
   "source": [
    "## d) Take the average value of $\\lambda$ from part \"a\" to estimate $\\alpha$. Plot the estimated distribution function (P($\\lambda$) vs $\\lambda$)."
   ]
  },
  {
   "cell_type": "markdown",
   "metadata": {},
   "source": [
    "Estimated $\\lambda$ = $1/\\alpha$"
   ]
  },
  {
   "cell_type": "code",
   "execution_count": 22,
   "metadata": {},
   "outputs": [
    {
     "data": {
      "text/plain": [
       "0.025793650793650796"
      ]
     },
     "execution_count": 22,
     "metadata": {},
     "output_type": "execute_result"
    }
   ],
   "source": [
    "# can't use greek letters in code for some reason\n",
    "λ_est = tweet_counts[\"count\"].mean()\n",
    "α = 1/λ_est\n",
    "α"
   ]
  },
  {
   "cell_type": "code",
   "execution_count": 23,
   "metadata": {},
   "outputs": [],
   "source": [
    "Exponential=lambda λ,α: α*np.exp(-λ*α)\n",
    "Exponential=np.vectorize(Exponential)"
   ]
  },
  {
   "cell_type": "code",
   "execution_count": 24,
   "metadata": {},
   "outputs": [
    {
     "data": {
      "image/png": "[encoded data removed]",
      "text/plain": [
       "<Figure size 432x288 with 1 Axes>"
      ]
     },
     "metadata": {
      "needs_background": "light"
     },
     "output_type": "display_data"
    }
   ],
   "source": [
    "plt.plot(np.linspace(0,200,1000),Exponential(np.linspace(0,200,1000),α),c='r')\n",
    "plt.xlabel('$\\lambda$', fontsize=15)\n",
    "plt.ylabel('$P(\\lambda)$', fontsize=15)\n",
    "plt.show()"
   ]
  },
  {
   "cell_type": "markdown",
   "metadata": {},
   "source": [
    "## e) define model spaces. Describe method to find posterior for each point"
   ]
  },
  {
   "cell_type": "code",
   "execution_count": 38,
   "metadata": {},
   "outputs": [],
   "source": [
    "λ1_space = np.linspace(25,50,50)\n",
    "λ2_space = np.linspace(25,50,50)\n",
    "Ws_space = np.arange(1,53)"
   ]
  },
  {
   "cell_type": "markdown",
   "metadata": {},
   "source": [
    "Using Bayes' theorem, calculate posterior for each point. The likelihood function of P(data|λ1, λ2, Ws) is poisson distribution with constant of λ1 if W<W_s or λ2 if W>W_s. The priors of λ1 and λ2 are the exponential function and the prior of W is the constant (1/52). After finding the posteriors, integrate over one of the variables (λ1, λ2, Ws) to obtain probability distribution for it. "
   ]
  },
  {
   "cell_type": "markdown",
   "metadata": {},
   "source": [
    "## f) calculate and plot the marginalized-posteriors"
   ]
  },
  {
   "cell_type": "code",
   "execution_count": 39,
   "metadata": {},
   "outputs": [],
   "source": [
    "Poisson=lambda k,λ : (λ**k)*np.exp(-λ)/np.math.factorial(k)\n",
    "Poisson=np.vectorize(Poisson)\n",
    "\n",
    "Exponential=lambda λ,a: a*np.exp(-λ*a)\n",
    "Exponential=np.vectorize(Exponential)\n",
    "\n",
    "# this function not returning posteriors. Don't understand np.prod or how to use to multiply vectorized functions \n",
    "def Posterior_tweet(λ1, λ2, Ws):\n",
    "    P=1\n",
    "    w=0\n",
    "    for i in tweet_data[w<Ws]:\n",
    "        P=P*Poisson(i,λ1)*α*np.exp(-α*λ1)\n",
    "        \n",
    "    for j in tweet_data[w>=Ws]:\n",
    "        P=P*Poisson(i,λ2)*α*np.exp(-α*λ2)\n",
    "    return(P)"
   ]
  },
  {
   "cell_type": "code",
   "execution_count": 41,
   "metadata": {
    "scrolled": true
   },
   "outputs": [],
   "source": [
    "P_=np.array([])\n",
    "# dummy empty array to hold un-normalized posterior likelihoods\n",
    "for λ1 in λ1_space:\n",
    "    for λ2 in λ2_space:\n",
    "        for Ws in Ws_space:\n",
    "            P_=np.append(P_,Posterior_tweet(λ1, λ2, Ws))"
   ]
  },
  {
   "cell_type": "code",
   "execution_count": 16,
   "metadata": {},
   "outputs": [],
   "source": [
    "# Use the integral of 3D posterior over the two other parameters to get the marginalized posterior.\n",
    "# use np.sum over two axes to get 2-D posterior, and then np.sum again to get get 1-D posterior.\n",
    "# Since the λ1_est and λ2_est intervals are the same, summation will return unnormalized integral.\n",
    "# Apply the normalization at the end when you have 1D posterior, meaning that the area underneath the 1D posterior should be 1."
   ]
  },
  {
   "cell_type": "markdown",
   "metadata": {},
   "source": [
    "## g) analyze results of posterior plots "
   ]
  },
  {
   "cell_type": "markdown",
   "metadata": {},
   "source": [
    "I did not complete part f, but if I had, I would examine the plots to find the most likely values for λ1, λ2, Ws. I would look at the Ws plot to see when the change was most likely to occur."
   ]
  },
  {
   "cell_type": "markdown",
   "metadata": {},
   "source": [
    "I would use the marginalized 2-D posterior to estimate the probability that λ1-λ2>5."
   ]
  },
  {
   "cell_type": "code",
   "execution_count": null,
   "metadata": {},
   "outputs": [],
   "source": []
  }
 ],
 "metadata": {
  "kernelspec": {
   "display_name": "Python 3",
   "language": "python",
   "name": "python3"
  },
  "language_info": {
   "codemirror_mode": {
    "name": "ipython",
    "version": 3
   },
   "file_extension": ".py",
   "mimetype": "text/x-python",
   "name": "python",
   "nbconvert_exporter": "python",
   "pygments_lexer": "ipython3",
   "version": "3.6.9"
  }
 },
 "nbformat": 4,
 "nbformat_minor": 2
}
