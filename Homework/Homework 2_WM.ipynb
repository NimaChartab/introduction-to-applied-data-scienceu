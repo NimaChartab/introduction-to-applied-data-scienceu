{
 "cells": [
  {
   "cell_type": "code",
   "execution_count": 1,
   "metadata": {},
   "outputs": [],
   "source": [
    "import pandas as pd\n",
    "import numpy as np\n",
    "import matplotlib.pylab as plt"
   ]
  },
  {
   "cell_type": "markdown",
   "metadata": {},
   "source": [
    "### a) Read tweet counts.csv file and define two variables which represent the week number and weekly tweet counts. What is the average number of weekly tweets over the last year? This is the horizontal line, I have plotted in the figure above."
   ]
  },
  {
   "cell_type": "code",
   "execution_count": 2,
   "metadata": {},
   "outputs": [
    {
     "name": "stdout",
     "output_type": "stream",
     "text": [
      "0 week count\n",
      "1    1  39.0\n",
      "2    2  46.0\n",
      "3    3  41.0\n",
      "4    4  42.0\n",
      "5    5  31.0\n"
     ]
    }
   ],
   "source": [
    "df = pd.read_csv(\"tweet_counts.csv\",header=None)\n",
    "data = [df]\n",
    "new_header = df.iloc[0] #grab the first row for the header\n",
    "df = df[1:] #take the data less the header row\n",
    "df.columns = new_header #set the header row as the df header\n",
    "print (df.head())\n"
   ]
  },
  {
   "cell_type": "code",
   "execution_count": 3,
   "metadata": {},
   "outputs": [],
   "source": [
    "week=df['week']\n",
    "tweetcount=df['count']\n",
    "tweetcount = pd.Series(tweetcount)\n",
    "tweetcount = pd.to_numeric(tweetcount, errors='ignore')\n",
    "k = tweetcount\n",
    "avgcount = np.mean(k)"
   ]
  },
  {
   "cell_type": "markdown",
   "metadata": {},
   "source": [
    "### b) Use matplotlib.pyplot.bar to create the same figure shown above."
   ]
  },
  {
   "cell_type": "code",
   "execution_count": 4,
   "metadata": {},
   "outputs": [
    {
     "data": {
      "text/plain": [
       "Text(0.5, 1.0, 'Weekly count of tweets')"
      ]
     },
     "execution_count": 4,
     "metadata": {},
     "output_type": "execute_result"
    },
    {
     "data": {
      "image/png": "[encoded data removed]",
      "text/plain": [
       "<Figure size 1080x360 with 1 Axes>"
      ]
     },
     "metadata": {
      "needs_background": "light"
     },
     "output_type": "display_data"
    }
   ],
   "source": [
    "\n",
    "\n",
    "plt.figure(figsize=(15,5))\n",
    "plt.bar(week,tweetcount, color='steelblue',edgecolor='black')\n",
    "plt.xlim(-1,52)\n",
    "plt.xlabel('Week',fontsize=15)\n",
    "plt.ylabel('Number of tweets',fontsize=15)\n",
    "plt.axhline(avgcount, color='r', linestyle='dashed', linewidth=2)\n",
    "plt.title('Weekly count of tweets', fontsize=20)"
   ]
  },
  {
   "cell_type": "markdown",
   "metadata": {},
   "source": [
    "### c) Prove explicitly that the expected value of lambda = 1/alpha"
   ]
  },
  {
   "cell_type": "markdown",
   "metadata": {},
   "source": [
    "∞\n",
    "∫λαe^(-αλ)dλ\n",
    "0\n",
    "\n",
    " ∞\n",
    "α∫λe^(-αλ)dλ\n",
    " 0\n",
    " \n",
    "= ∫fg'=fg-∫f'g\n",
    "\n",
    "f = λ, g' = e^(-αλ), f' = 1, g = (e^(-αλ))/α\n",
    "\n",
    "=  -λe^(-αλ)/α - ∫-(e^(-αλ)/α)*dλ\n",
    "\n",
    "=  ∫-(e^(-αλ)/α) dλ = 1/α^2∫e^u*du\n",
    "\n",
    "∫e^u*du= e^u\n",
    "\n",
    "1/α^2∫e^u*du = e^u/a^2\n",
    "\n",
    "-λe^(-αλ)/α - ∫-(e^(-αλ)/α)*dλ = -λe^(-αλ)/α -(e^(-αλ)/α^2)\n",
    "\n",
    "α∫λe^(-αλ)dλ = -λe^(-αλ) - (e^(-αλ))/α + C\n",
    "\n",
    "= 1/a\n"
   ]
  },
  {
   "cell_type": "markdown",
   "metadata": {},
   "source": [
    "### d) Take the average value of λ from part \"a\" to estimate α. Plot the estimated distribution function (P(λ) vs λ)."
   ]
  },
  {
   "cell_type": "code",
   "execution_count": 5,
   "metadata": {},
   "outputs": [],
   "source": [
    "Exponential=lambda λ,α: α*np.exp(-λ*α)\n",
    "Exponential=np.vectorize(Exponential)\n"
   ]
  },
  {
   "cell_type": "code",
   "execution_count": 6,
   "metadata": {},
   "outputs": [
    {
     "data": {
      "image/png": "[encoded data removed]",
      "text/plain": [
       "<Figure size 432x288 with 1 Axes>"
      ]
     },
     "metadata": {
      "needs_background": "light"
     },
     "output_type": "display_data"
    }
   ],
   "source": [
    "avg_lambda = 1/np.mean(k)\n",
    "\n",
    "plt.plot(np.linspace(0,200,1000),Exponential(np.linspace(0,200,1000),avg_lambda),c='steelblue')\n",
    "plt.xlabel('$\\lambda$', fontsize=15)\n",
    "plt.ylabel('$P$', fontsize=15)\n",
    "plt.show()"
   ]
  },
  {
   "cell_type": "markdown",
   "metadata": {},
   "source": [
    "### e) Use numpy.linspace to create two variables with 1x50 array in the interval of 25 and 50."
   ]
  },
  {
   "cell_type": "code",
   "execution_count": 7,
   "metadata": {},
   "outputs": [],
   "source": [
    "λ1 = np.linspace(25,50,50)\n",
    "λ2 = np.linspace(25,50,50)\n",
    "week = week\n",
    "\n",
    "Poisson=lambda k,λ: (λ**k)*np.exp(-λ)/np.math.factorial(k)\n",
    "Poisson=np.vectorize(Poisson)"
   ]
  },
  {
   "cell_type": "code",
   "execution_count": 8,
   "metadata": {},
   "outputs": [],
   "source": [
    "λ1_mesh, λ2_mesh, week_mesh=np.meshgrid(λ1,λ2,week)"
   ]
  },
  {
   "cell_type": "code",
   "execution_count": 9,
   "metadata": {},
   "outputs": [
    {
     "data": {
      "text/plain": [
       "25.0"
      ]
     },
     "execution_count": 9,
     "metadata": {},
     "output_type": "execute_result"
    }
   ],
   "source": [
    "λ1_mesh[0][0][0]"
   ]
  },
  {
   "cell_type": "markdown",
   "metadata": {},
   "source": [
    "P(Bob changed tweet habit|tweet data) ∝  P(tweet data|Bob changed tweet habit) P(Bob changed tweet habit)"
   ]
  },
  {
   "cell_type": "markdown",
   "metadata": {},
   "source": [
    "<div align=\"center\">$P(\\text{Bob changed tweet habit|tweet data})= \\frac{P(\\text{tweet data|Bob changed tweet habit})P(\\text{Bob changed tweet habit})}{P(\\text{tweet data|Bob changed tweet habit})P(\\text{Bob changed tweet habit})+P(\\text{tweet data|bob did not change tweet habit})P(\\text{bob did not change tweet habit})}$</div>"
   ]
  },
  {
   "cell_type": "markdown",
   "metadata": {},
   "source": [
    "### f) Write a code to find marginalized-posterior for λ1, λ2 and WS."
   ]
  },
  {
   "cell_type": "code",
   "execution_count": 116,
   "metadata": {},
   "outputs": [],
   "source": [
    "Pweek = 1/52\n",
    "\n",
    "alpha=1/np.mean(k)\n",
    "def Posterior(lambda1,lambda2,week_set):\n",
    "    P=1\n",
    "    for i in k[week<week_set]:\n",
    "        P=P*Poisson(i, lambda1)*alpha*np.exp(-alpha*lambda1)\n",
    "    for j in k[week>=week_set]:\n",
    "        P=P*Poisson(j, lambda2)*alpha*np.exp(-alpha*lambda2)\n",
    "    return(P)"
   ]
  },
  {
   "cell_type": "code",
   "execution_count": 40,
   "metadata": {},
   "outputs": [],
   "source": [
    "λ1_mesh,λ2_mesh, week_mesh=np.meshgrid(λ1,λ2,week,sparse=False)"
   ]
  },
  {
   "cell_type": "code",
   "execution_count": 41,
   "metadata": {},
   "outputs": [
    {
     "data": {
      "text/plain": [
       "(50, 50, 52)"
      ]
     },
     "execution_count": 41,
     "metadata": {},
     "output_type": "execute_result"
    }
   ],
   "source": [
    "week_mesh.shape"
   ]
  },
  {
   "cell_type": "code",
   "execution_count": 86,
   "metadata": {},
   "outputs": [],
   "source": [
    "Posterior_V = np.vectorize(Posterior)\n",
    "\n",
    "D = Posterior_V(λ1_mesh,λ2_mesh, week_mesh)"
   ]
  },
  {
   "cell_type": "code",
   "execution_count": 87,
   "metadata": {},
   "outputs": [
    {
     "data": {
      "text/plain": [
       "(50, 50, 52)"
      ]
     },
     "execution_count": 87,
     "metadata": {},
     "output_type": "execute_result"
    }
   ],
   "source": [
    "D.shape"
   ]
  },
  {
   "cell_type": "code",
   "execution_count": 88,
   "metadata": {},
   "outputs": [
    {
     "data": {
      "text/plain": [
       "array([[[6.50810650e-247, 6.50810650e-247, 6.50810650e-247, ...,\n",
       "         6.50810650e-247, 6.50810650e-247, 6.50810650e-247],\n",
       "        [6.50810650e-247, 8.47375460e-246, 6.26653159e-245, ...,\n",
       "         5.92763086e-242, 1.08874649e-241, 1.41845536e-241],\n",
       "        [6.50810650e-247, 9.35644923e-245, 4.38826443e-243, ...,\n",
       "         2.70110827e-237, 8.91052074e-237, 1.48903376e-236],\n",
       "        ...,\n",
       "        [6.50810650e-247, 4.33855670e-244, 1.91925031e-249, ...,\n",
       "         4.66047403e-222, 2.19691825e-216, 1.12181204e-215],\n",
       "        [6.50810650e-247, 9.80203389e-245, 7.32924821e-251, ...,\n",
       "         1.70043971e-224, 8.48552988e-219, 3.84601146e-218],\n",
       "        [6.50810650e-247, 2.11967503e-245, 2.57184054e-252, ...,\n",
       "         5.16166448e-227, 2.71054408e-221, 1.08595856e-220]],\n",
       "\n",
       "       [[4.81271972e-241, 3.69631810e-242, 4.99825016e-243, ...,\n",
       "         5.28401536e-246, 2.87685819e-246, 2.20815497e-246],\n",
       "        [4.81271972e-241, 4.81271972e-241, 4.81271972e-241, ...,\n",
       "         4.81271972e-241, 4.81271972e-241, 4.81271972e-241],\n",
       "        [4.81271972e-241, 5.31405143e-240, 3.37020351e-239, ...,\n",
       "         2.19306454e-236, 3.93882684e-236, 5.05218730e-236],\n",
       "        ...,\n",
       "        [4.81271972e-241, 2.46410929e-239, 1.47399143e-245, ...,\n",
       "         3.78389880e-221, 9.71130735e-216, 3.80622973e-215],\n",
       "        [4.81271972e-241, 5.56712391e-240, 5.62889007e-247, ...,\n",
       "         1.38060887e-223, 3.75096291e-218, 1.30492476e-217],\n",
       "        [4.81271972e-241, 1.20388214e-240, 1.97518317e-248, ...,\n",
       "         4.19082176e-226, 1.19817507e-220, 3.68458137e-220]],\n",
       "\n",
       "       [[1.58869803e-235, 1.10505767e-237, 2.35615154e-239, ...,\n",
       "         3.82784211e-245, 1.16036047e-245, 6.94370825e-246],\n",
       "        [1.58869803e-235, 1.43881904e-236, 2.26869337e-237, ...,\n",
       "         3.48642651e-240, 1.94117657e-240, 1.51339567e-240],\n",
       "        [1.58869803e-235, 1.58869803e-235, 1.58869803e-235, ...,\n",
       "         1.58869803e-235, 1.58869803e-235, 1.58869803e-235],\n",
       "        ...,\n",
       "        [1.58869803e-235, 7.36674387e-235, 6.94832604e-242, ...,\n",
       "         2.74112889e-220, 3.91698735e-215, 1.19689737e-214],\n",
       "        [1.58869803e-235, 1.66435702e-235, 2.65343222e-243, ...,\n",
       "         1.00013955e-222, 1.51292444e-217, 4.10343339e-217],\n",
       "        [1.58869803e-235, 3.59914693e-236, 9.31092026e-245, ...,\n",
       "         3.03591170e-225, 4.83275465e-220, 1.15864413e-219]],\n",
       "\n",
       "       ...,\n",
       "\n",
       "       [[1.34919694e-213, 2.02387982e-216, 4.57507668e-211, ...,\n",
       "         1.88408245e-238, 3.99683391e-244, 7.82726250e-245],\n",
       "        [1.34919694e-213, 2.63515370e-215, 4.40525406e-209, ...,\n",
       "         1.71603604e-233, 6.68633632e-239, 1.70596815e-239],\n",
       "        [1.34919694e-213, 2.90965256e-214, 3.08486750e-207, ...,\n",
       "         7.81964878e-229, 5.47223243e-234, 1.79085239e-234],\n",
       "        ...,\n",
       "        [1.34919694e-213, 1.34919694e-213, 1.34919694e-213, ...,\n",
       "         1.34919694e-213, 1.34919694e-213, 1.34919694e-213],\n",
       "        [1.34919694e-213, 3.04821972e-214, 5.15232389e-215, ...,\n",
       "         4.92273540e-216, 5.21123211e-216, 4.62557600e-216],\n",
       "        [1.34919694e-213, 6.59172913e-215, 1.80795562e-216, ...,\n",
       "         1.49429046e-218, 1.66463080e-218, 1.30607616e-218]],\n",
       "\n",
       "       [[2.41986052e-216, 1.60667777e-218, 2.14874835e-212, ...,\n",
       "         9.26155152e-239, 1.85594892e-244, 4.09481619e-245],\n",
       "        [2.41986052e-216, 2.09194382e-217, 2.06898879e-210, ...,\n",
       "         8.43548867e-234, 3.10483221e-239, 8.92473712e-240],\n",
       "        [2.41986052e-216, 2.30985756e-216, 1.44885090e-208, ...,\n",
       "         3.84389122e-229, 2.54105727e-234, 9.36880727e-235],\n",
       "        ...,\n",
       "        [2.41986052e-216, 1.07107384e-215, 6.33669093e-215, ...,\n",
       "         6.63222404e-214, 6.26506042e-214, 7.05829588e-214],\n",
       "        [2.41986052e-216, 2.41986052e-216, 2.41986052e-216, ...,\n",
       "         2.41986052e-216, 2.41986052e-216, 2.41986052e-216],\n",
       "        [2.41986052e-216, 5.23291185e-217, 8.49131483e-218, ...,\n",
       "         7.34545777e-219, 7.72979262e-219, 6.83271040e-219]],\n",
       "\n",
       "       [[3.50305669e-219, 1.07555477e-220, 8.86457213e-214, ...,\n",
       "         4.41684385e-239, 8.41095562e-245, 2.09936795e-245],\n",
       "        [3.50305669e-219, 1.40040536e-219, 8.53552739e-212, ...,\n",
       "         4.02289359e-234, 1.40707568e-239, 4.57561615e-240],\n",
       "        [3.50305669e-219, 1.54628288e-218, 5.97717424e-210, ...,\n",
       "         1.83315585e-229, 1.15157910e-234, 4.80328611e-235],\n",
       "        ...,\n",
       "        [3.50305669e-219, 7.17006609e-218, 2.61417554e-216, ...,\n",
       "         3.16291476e-214, 2.83925622e-214, 3.61871192e-214],\n",
       "        [3.50305669e-219, 1.61992192e-218, 9.98303415e-218, ...,\n",
       "         1.15403408e-216, 1.09665408e-216, 1.24063631e-216],\n",
       "        [3.50305669e-219, 3.50305669e-219, 3.50305669e-219, ...,\n",
       "         3.50305669e-219, 3.50305669e-219, 3.50305669e-219]]])"
      ]
     },
     "execution_count": 88,
     "metadata": {},
     "output_type": "execute_result"
    }
   ],
   "source": [
    "D"
   ]
  },
  {
   "cell_type": "code",
   "execution_count": 80,
   "metadata": {},
   "outputs": [],
   "source": [
    "for i in range(0,50):\n",
    "    for j in range(0,50):\n",
    "        D"
   ]
  },
  {
   "cell_type": "code",
   "execution_count": 89,
   "metadata": {},
   "outputs": [],
   "source": [
    "D_T = D.transpose(2,0,1).reshape(-1,D.shape[1])\n"
   ]
  },
  {
   "cell_type": "code",
   "execution_count": 73,
   "metadata": {},
   "outputs": [],
   "source": [
    "D_T = np.matrix(D_T)"
   ]
  },
  {
   "cell_type": "code",
   "execution_count": 139,
   "metadata": {},
   "outputs": [],
   "source": [
    "P_ = D.sum(axis=2)\n",
    "P__= D.sum(axis=1)\n",
    "P1,P2 = P_.sum(axis=1),P_.sum(axis=0)\n",
    "P3 = P__.sum(axis=0)"
   ]
  },
  {
   "cell_type": "code",
   "execution_count": 137,
   "metadata": {},
   "outputs": [],
   "source": [
    "λ1_mode=np.argmax(P1)\n",
    "λ2_mode=np.argmax(P2)\n",
    "week_mode=np.argmax(P3)"
   ]
  },
  {
   "cell_type": "code",
   "execution_count": 132,
   "metadata": {},
   "outputs": [
    {
     "data": {
      "image/png": "[encoded data removed]",
      "text/plain": [
       "<Figure size 576x360 with 1 Axes>"
      ]
     },
     "metadata": {
      "needs_background": "light"
     },
     "output_type": "display_data"
    }
   ],
   "source": [
    "plt.figure(figsize=(8,5))\n",
    "plt.plot(λ1,P1)\n",
    "plt.plot(λ2,P2)\n",
    "plt.xlabel('$\\lambda$',fontsize=15)\n",
    "plt.ylabel('$P(λ|data)$',fontsize=15)\n",
    "plt.text(λ1_mode,np.max(P1),'(mode)={:0.2f}'.format(λ1_mode),fontsize=20)\n",
    "plt.show()"
   ]
  },
  {
   "cell_type": "code",
   "execution_count": 135,
   "metadata": {},
   "outputs": [
    {
     "data": {
      "text/plain": [
       "Text(0.5, 1.0, 'Weekly tweet counts')"
      ]
     },
     "execution_count": 135,
     "metadata": {},
     "output_type": "execute_result"
    },
    {
     "data": {
      "image/png": "[encoded data removed]",
      "text/plain": [
       "<Figure size 1440x720 with 1 Axes>"
      ]
     },
     "metadata": {
      "needs_background": "light"
     },
     "output_type": "display_data"
    }
   ],
   "source": [
    "plt.figure(figsize=(20,10))\n",
    "plt.bar(week,P3, color='green',edgecolor='black')\n",
    "plt.xlabel('week',fontsize=15)\n",
    "plt.ylabel('posterior',fontsize=15)\n",
    "\n",
    "plt.title('Weekly tweet counts', fontsize=20)"
   ]
  },
  {
   "cell_type": "markdown",
   "metadata": {},
   "source": [
    "### g) How is your belief updated about a sudden change in Bob's tweeting habit?"
   ]
  },
  {
   "cell_type": "markdown",
   "metadata": {},
   "source": [
    "It's likely for bob to change his tweeting habit around the 28th week."
   ]
  },
  {
   "cell_type": "code",
   "execution_count": 147,
   "metadata": {},
   "outputs": [
    {
     "name": "stdout",
     "output_type": "stream",
     "text": [
      "no\n",
      "no\n",
      "no\n",
      "no\n",
      "no\n",
      "no\n",
      "no\n",
      "no\n",
      "no\n",
      "no\n",
      "no\n",
      "no\n",
      "no\n",
      "no\n",
      "no\n",
      "no\n",
      "no\n",
      "no\n",
      "no\n",
      "no\n",
      "no\n",
      "no\n",
      "no\n",
      "no\n",
      "no\n",
      "no\n",
      "no\n",
      "no\n",
      "no\n",
      "no\n",
      "no\n",
      "no\n",
      "no\n",
      "no\n",
      "no\n",
      "no\n",
      "no\n",
      "no\n",
      "no\n",
      "no\n",
      "no\n",
      "no\n",
      "no\n",
      "no\n",
      "no\n",
      "no\n",
      "no\n",
      "no\n",
      "no\n",
      "no\n"
     ]
    }
   ],
   "source": [
    "t = 0\n",
    "\n",
    "for i in range(0,50):\n",
    "    if P1[i]-P2[i] > 5:\n",
    "        print(i)\n",
    "    else:\n",
    "        print('no')\n",
    "    t += 1  "
   ]
  },
  {
   "cell_type": "code",
   "execution_count": 148,
   "metadata": {},
   "outputs": [
    {
     "data": {
      "text/plain": [
       "1.030606908677383e-180"
      ]
     },
     "execution_count": 148,
     "metadata": {},
     "output_type": "execute_result"
    }
   ],
   "source": [
    "P2[0]"
   ]
  },
  {
   "cell_type": "code",
   "execution_count": null,
   "metadata": {},
   "outputs": [],
   "source": []
  }
 ],
 "metadata": {
  "kernelspec": {
   "display_name": "Python 3",
   "language": "python",
   "name": "python3"
  },
  "language_info": {
   "codemirror_mode": {
    "name": "ipython",
    "version": 3
   },
   "file_extension": ".py",
   "mimetype": "text/x-python",
   "name": "python",
   "nbconvert_exporter": "python",
   "pygments_lexer": "ipython3",
   "version": "3.7.3"
  }
 },
 "nbformat": 4,
 "nbformat_minor": 2
}
