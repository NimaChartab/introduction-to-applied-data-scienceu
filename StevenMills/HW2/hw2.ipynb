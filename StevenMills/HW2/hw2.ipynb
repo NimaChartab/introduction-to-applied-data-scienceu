{
 "cells": [
  {
   "cell_type": "markdown",
   "metadata": {},
   "source": [
    "# PHYS247-HW2\n",
    "Steven Mills"
   ]
  },
  {
   "cell_type": "markdown",
   "metadata": {},
   "source": [
    "## a)\n",
    "read tweet_counts.csv and print the average number of weekly tweet counts"
   ]
  },
  {
   "cell_type": "code",
   "execution_count": 1,
   "metadata": {},
   "outputs": [
    {
     "data": {
      "text/plain": [
       "'38.77'"
      ]
     },
     "execution_count": 1,
     "metadata": {},
     "output_type": "execute_result"
    }
   ],
   "source": [
    "import numpy as np\n",
    "import matplotlib.pyplot as plt\n",
    "import math\n",
    "\n",
    "#csvfile = r'C:\\Users\\steve\\Desktop\\Riverside\\PHYS247\\Introduction-to-applied-data-science\\Homework\\tweet_counts.csv'\n",
    "csvfile = r'tweet_counts.csv'\n",
    "data = np.genfromtxt(csvfile, delimiter=',', skip_header=1, dtype=int)\n",
    "weeks = data[:,0]\n",
    "tweet_counts = data[:,1]\n",
    "tweet_ave = np.mean(tweet_counts)\n",
    "'%2.2f' % tweet_ave"
   ]
  },
  {
   "cell_type": "markdown",
   "metadata": {},
   "source": [
    "## b)\n",
    "print a bar plot of tweet count by week"
   ]
  },
  {
   "cell_type": "code",
   "execution_count": 2,
   "metadata": {
    "scrolled": true
   },
   "outputs": [
    {
     "data": {
      "image/png": "[encoded data removed]",
      "text/plain": [
       "<Figure size 1080x216 with 1 Axes>"
      ]
     },
     "metadata": {
      "needs_background": "light"
     },
     "output_type": "display_data"
    }
   ],
   "source": [
    "fig = plt.figure(figsize=(15,3))\n",
    "ax = fig.add_subplot(111)\n",
    "ax.bar(weeks, tweet_counts)\n",
    "ax.axhline(y=tweet_ave, color='r', linestyle='dashed')\n",
    "plt.xlim(1, 52)\n",
    "plt.xticks(np.arange(4, 53, 4))\n",
    "plt.yticks(np.arange(0, int(math.ceil(np.max(tweet_counts)/10.0)) * 10, 10))\n",
    "plt.ylabel('Number of tweets')\n",
    "plt.xlabel('Week')\n",
    "plt.show()"
   ]
  },
  {
   "cell_type": "markdown",
   "metadata": {},
   "source": [
    "# c)\n",
    "Model Prior Belief with an exponential distribution\n",
    "<div align=\"center\"> $P(λ) = \\alpha e^{-\\alpha \\lambda}$</div>\n",
    "\n",
    "<div align=\"left\"> Prove explicity that the expected value of $\\lambda$ , $E(λ) = 1/\\alpha$</div>\n",
    "<div align=\"center\"> $E(λ) = 1/\\alpha$</div>"
   ]
  },
  {
   "cell_type": "markdown",
   "metadata": {},
   "source": [
    "General formula for expected value is:\n",
    "<div align=\"center\"> $E(X) = \\int_{-\\infty}^{\\infty} x f_X(x)dx$</div>\n",
    "\n",
    "In this case\n",
    "<div align=\"left\"> $E(λ) = \\int_{0}^{\\infty} {\\lambda \\alpha e^{-\\alpha \\lambda} d\\lambda}$</div>\n",
    "\n",
    "integrate by parts\n",
    "<div align=\"left\"> $\\int_{a}^{b} {udv} = uv|_{a}^{b} - \\int_{a}^{b} {vdu}$</div>\n",
    "\n",
    "<div align=\"left\"> let $u = \\lambda , du = 1$</div>\n",
    "<div align=\"left\"> let $dv = e^{-\\alpha \\lambda} , v = -\\frac{1}{\\alpha} e^{-\\alpha \\lambda}$</div>\n",
    "\n",
    "(detailed steps available upon request)\n",
    "\n",
    "result of integration is: $\\frac{1}{\\alpha}$"
   ]
  },
  {
   "cell_type": "markdown",
   "metadata": {},
   "source": [
    "# d)\n",
    "take average value from part a), plot estimated distribution $P(\\lambda)$ vs. $\\lambda$\n"
   ]
  },
  {
   "cell_type": "code",
   "execution_count": 3,
   "metadata": {
    "scrolled": true
   },
   "outputs": [
    {
     "name": "stdout",
     "output_type": "stream",
     "text": [
      "α = 0.026\n"
     ]
    },
    {
     "data": {
      "image/png": "[encoded data removed]",
      "text/plain": [
       "<Figure size 576x360 with 1 Axes>"
      ]
     },
     "metadata": {
      "needs_background": "light"
     },
     "output_type": "display_data"
    }
   ],
   "source": [
    "Pexp=lambda λ, α: α*(np.exp(-α*λ))\n",
    "Pexp=np.vectorize(Pexp)\n",
    "\n",
    "α = 1/tweet_ave\n",
    "print('α = %0.3f' % α)\n",
    "\n",
    "plt.figure(figsize=(8,5))\n",
    "plt.plot(np.linspace(0,200, 1000), Pexp((α), np.linspace(0, 200, 1000)), c='r', marker='.')\n",
    "plt.ylabel('P(λ)')\n",
    "plt.xlabel('λ')\n",
    "plt.title('P(hypothesis) (or \"prior belief\") distribution function')\n",
    "plt.show()"
   ]
  },
  {
   "cell_type": "markdown",
   "metadata": {},
   "source": [
    "# e-f)\n",
    "\n",
    "For this step, I want to follow example of Discussion 3 and use Bayes theorem to calculate Posterior Probabilities.\n",
    "\n",
    "\\begin{equation*}\n",
    "P(hypothesis|data)\\propto P(data|hypothesis) P(hypothesis)\n",
    "\\end{equation*}\n",
    "\n",
    "<div align=\"center\"> $P(data|hypothesis)(k;\\lambda)=\\frac{\\lambda^k e^{-\\lambda}}{k!}$</div>\n",
    "<div align=\"center\"> $P(hypothesis)(\\lambda, \\alpha)=\\alpha e^{-\\alpha \\lambda}$</div>\n",
    "\n",
    "Find posterior of each point in 3-D mesh grid (dimensions of 3-D mesh grid are $\\lambda_1$, $\\lambda_2$, $W_S$)\n",
    "\n",
    "Use piecewise likelihood function before and after pivot (change point) w_s\n",
    "\n",
    "Do not normalize in this step."
   ]
  },
  {
   "cell_type": "code",
   "execution_count": 4,
   "metadata": {},
   "outputs": [],
   "source": [
    "poisson = lambda k, _lambda: ((_lambda**k)*np.exp(-_lambda))/np.math.factorial(k)\n",
    "poisson = np.vectorize(poisson)\n",
    "\n",
    "exponential = lambda _lambda, alpha: alpha*(_lambda*np.exp(-_lambda*alpha))\n",
    "exponential = np.vectorize(exponential)\n",
    "\n",
    "l1_est = np.linspace(25, 50, 50)\n",
    "l2_est = np.linspace(25, 50, 50)\n",
    "\n",
    "prior = exponential(l1_est, (1/tweet_ave))\n",
    "\n",
    "def posterior(l1, l2, ws, data):\n",
    "    \"\"\"\n",
    "    this function was written with help from Nima Chartab\n",
    "    \"\"\"\n",
    "    alpha = 1/tweet_ave\n",
    "    post = 1\n",
    "    for d in data[:ws]:\n",
    "        post *= poisson(d, l1)*alpha*np.exp(-alpha*l1)\n",
    "    for d in data[ws:]:\n",
    "        post *= poisson(d, l2)*alpha*np.exp(-alpha*l2)\n",
    "    return post\n",
    "\n",
    "ps = []\n",
    "for l1 in l1_est:\n",
    "    for l2 in l2_est:\n",
    "        for w in weeks:\n",
    "            p = posterior(l1, l2, w, tweet_counts)\n",
    "            ps.append([l1, l2, w, p])\n",
    "\n",
    "ps = np.array(ps)  # 130000 x 4 matrix, each row vector represents single point (l1, l2, ws, p)"
   ]
  },
  {
   "cell_type": "code",
   "execution_count": 5,
   "metadata": {
    "scrolled": true
   },
   "outputs": [
    {
     "data": {
      "image/png": "[encoded data removed]",
      "text/plain": [
       "<Figure size 576x360 with 1 Axes>"
      ]
     },
     "metadata": {
      "needs_background": "light"
     },
     "output_type": "display_data"
    }
   ],
   "source": [
    "# didn't have time to learn meshgrid due to being lost in wilderness of figuring out Bayes numerator ...\n",
    "# ps (posteriors) from above loop are stored like:\n",
    "#     50 l1 * 50 l2 * 52 ws in that order\n",
    "_ps = ps[:,3] # just the posteriors themselves\n",
    "\n",
    "#################### lambda 1 ####################\n",
    "# find the 50 posteriors associated with each value of l1\n",
    "# sum sequences of 2600 (50*52) and store average value\n",
    "p_l1 = [(np.sum(_ps[i*2600:(i+1)*2600])) for i in range(50)]\n",
    "p_l1 = p_l1/np.trapz(p_l1,l1_est)\n",
    "\n",
    "#################### lambda 2 ####################\n",
    "# find the 50 posteriors associated with each value of l2\n",
    "# arrangement in matrix not very user friendly\n",
    "p_l2 = np.array([])\n",
    "for i in range(50):\n",
    "    sum = 0.\n",
    "    for j in range(50):\n",
    "        for k in range(52):\n",
    "            sum += _ps[i*2600 + j*52 + k]\n",
    "    p_l2 = np.append(p_l2, sum)\n",
    "p_l2 = p_l2/np.trapz(p_l2,l2_est)\n",
    "\n",
    "plt.figure(figsize=(8,5))\n",
    "plt.plot(l1_est, p_l1, c='r', marker='.')\n",
    "plt.plot(l2_est, p_l2, c='b', marker='.')\n",
    "plt.ylabel('P(λ|(data, ws)')\n",
    "plt.xlabel('λ')\n",
    "plt.show()"
   ]
  },
  {
   "cell_type": "markdown",
   "metadata": {},
   "source": [
    "### P(lambda|(data, ws)) plot is same for both lambda1 and lambda2"
   ]
  },
  {
   "cell_type": "code",
   "execution_count": 6,
   "metadata": {},
   "outputs": [
    {
     "data": {
      "image/png": "[encoded data removed]",
      "text/plain": [
       "<Figure size 1080x216 with 1 Axes>"
      ]
     },
     "metadata": {
      "needs_background": "light"
     },
     "output_type": "display_data"
    }
   ],
   "source": [
    "#################### ws ####################\n",
    "# find the 52 posteriors associated with each value of ws\n",
    "# there are 2500 of each week in the _ps data\n",
    "p_ws = np.array([np.sum(_ps[i::52]) for i in range(52)])\n",
    "p_ws = p_ws/np.trapz(p_ws, weeks)\n",
    "\n",
    "fig = plt.figure(figsize=(15,3))\n",
    "ax = fig.add_subplot(111)\n",
    "ax.bar(weeks, p_ws)\n",
    "plt.ylabel('P(ws|(l1, l2)')\n",
    "plt.xlabel('ws')\n",
    "plt.xticks(np.arange(1, 52, 4))\n",
    "plt.show()"
   ]
  },
  {
   "cell_type": "markdown",
   "metadata": {},
   "source": [
    "# g) Week 37\n",
    "Based on the ws bar plot, a change point occured at week 37.\n",
    "My original guess was closer to week 28, based on optics (tall next to short)"
   ]
  },
  {
   "cell_type": "code",
   "execution_count": 7,
   "metadata": {},
   "outputs": [
    {
     "data": {
      "text/plain": [
       "37"
      ]
     },
     "execution_count": 7,
     "metadata": {},
     "output_type": "execute_result"
    }
   ],
   "source": [
    "np.argmax(p_ws) + 1"
   ]
  },
  {
   "cell_type": "code",
   "execution_count": 8,
   "metadata": {
    "scrolled": true
   },
   "outputs": [
    {
     "data": {
      "image/png": "[encoded data removed]",
      "text/plain": [
       "<Figure size 576x360 with 1 Axes>"
      ]
     },
     "metadata": {
      "needs_background": "light"
     },
     "output_type": "display_data"
    }
   ],
   "source": [
    "p_delta = p_l2 - p_l1\n",
    "p_delta = p_delta/np.trapz(p_delta, l1_est)\n",
    "\n",
    "dd = []\n",
    "for i in range(50):\n",
    "    if p_delta[i] > 5.:\n",
    "        dd.append(1.)\n",
    "    else:\n",
    "        dd.append(0.)\n",
    "        \n",
    "plt.figure(figsize=(8,5))\n",
    "#plt.plot(l1_est, p_delta, c='r', marker='.')\n",
    "plt.plot(l1_est, dd, c='b', marker='.')\n",
    "plt.xticks(np.arange(25, 52, 4))\n",
    "plt.grid(True)\n",
    "plt.show()"
   ]
  }
 ],
 "metadata": {
  "kernelspec": {
   "display_name": "PHYS247",
   "language": "python",
   "name": "phys247"
  },
  "language_info": {
   "codemirror_mode": {
    "name": "ipython",
    "version": 3
   },
   "file_extension": ".py",
   "mimetype": "text/x-python",
   "name": "python",
   "nbconvert_exporter": "python",
   "pygments_lexer": "ipython3",
   "version": "3.8.2"
  }
 },
 "nbformat": 4,
 "nbformat_minor": 4
}
