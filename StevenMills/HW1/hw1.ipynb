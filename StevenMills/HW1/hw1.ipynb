{
 "cells": [
  {
   "cell_type": "markdown",
   "metadata": {},
   "source": [
    "# PHYS247-HW1\n",
    "Steven Mills"
   ]
  },
  {
   "cell_type": "code",
   "execution_count": 1,
   "metadata": {},
   "outputs": [],
   "source": [
    "import numpy as np\n",
    "import matplotlib.pyplot as plt\n",
    "from IPython.display import Math\n",
    "import datetime\n",
    "import math\n",
    "import random\n",
    "import timeit"
   ]
  },
  {
   "cell_type": "markdown",
   "metadata": {},
   "source": [
    "## Problem 1"
   ]
  },
  {
   "cell_type": "markdown",
   "metadata": {},
   "source": [
    "### (a)  show that the set equation form can be written in form of matrix mutiply\n",
    "\n",
    "This can be shown by definition of matrix multiplication\n",
    "\n",
    "matrix multiplication of (m x n) * (n x p) -- > (m x p) is defined as"
   ]
  },
  {
   "cell_type": "code",
   "execution_count": 2,
   "metadata": {
    "scrolled": false
   },
   "outputs": [
    {
     "data": {
      "text/latex": [
       "$\\displaystyle C_{ij} = \\sum\\limits_{k=1}^n a_{ik}b_{jk}$"
      ],
      "text/plain": [
       "<IPython.core.display.Math object>"
      ]
     },
     "execution_count": 2,
     "metadata": {},
     "output_type": "execute_result"
    }
   ],
   "source": [
    "Math(r'C_{ij} = \\sum\\limits_{k=1}^n a_{ik}b_{jk}')"
   ]
  },
  {
   "cell_type": "markdown",
   "metadata": {},
   "source": [
    "for i=1,2,...m and j=1,2,...,p"
   ]
  },
  {
   "cell_type": "markdown",
   "metadata": {},
   "source": [
    "because all elements of A and Omega are either 0 or 1, \n",
    "matrix multiplication is equivalent to counting (1=select, 0=do not select)\n",
    "\n",
    "(after watching lecture 3, this is also related to co-occurrence, which can be obtained by inner-product.  matrix multiply is iterative calculation of inner-products)"
   ]
  },
  {
   "cell_type": "markdown",
   "metadata": {},
   "source": [
    "### (b) show the Omega(N) can be found recursively, using A^N-1\n",
    "Show that"
   ]
  },
  {
   "cell_type": "code",
   "execution_count": 3,
   "metadata": {},
   "outputs": [
    {
     "data": {
      "text/latex": [
       "$\\displaystyle \\Omega(N) = A^{N-1}*\\Omega(1)$"
      ],
      "text/plain": [
       "<IPython.core.display.Math object>"
      ]
     },
     "execution_count": 3,
     "metadata": {},
     "output_type": "execute_result"
    }
   ],
   "source": [
    "Math(r'\\Omega(N) = A^{N-1}*\\Omega(1)')"
   ]
  },
  {
   "cell_type": "markdown",
   "metadata": {},
   "source": [
    "#### Proof by induction\n",
    "##### base case - matrix multiplication method"
   ]
  },
  {
   "cell_type": "code",
   "execution_count": 4,
   "metadata": {},
   "outputs": [
    {
     "data": {
      "text/latex": [
       "$\\displaystyle \\Omega(2) = A*\\Omega(1)$"
      ],
      "text/plain": [
       "<IPython.core.display.Math object>"
      ]
     },
     "execution_count": 4,
     "metadata": {},
     "output_type": "execute_result"
    }
   ],
   "source": [
    "Math(r'\\Omega(2) = A*\\Omega(1)')"
   ]
  },
  {
   "cell_type": "code",
   "execution_count": 5,
   "metadata": {
    "scrolled": true
   },
   "outputs": [
    {
     "data": {
      "text/plain": [
       "matrix([[1],\n",
       "        [2],\n",
       "        [3],\n",
       "        [2],\n",
       "        [3],\n",
       "        [4],\n",
       "        [3],\n",
       "        [2],\n",
       "        [4],\n",
       "        [2]])"
      ]
     },
     "execution_count": 5,
     "metadata": {},
     "output_type": "execute_result"
    }
   ],
   "source": [
    "A = np.matrix([\n",
    "    [0, 0, 0, 0, 0, 0, 0, 0, 1, 0], # 0\n",
    "    [0, 0, 1, 0, 1, 0, 0, 0, 0, 0], # 1\n",
    "    [0, 1, 0, 1, 0, 1, 0, 0, 0, 0], # 2\n",
    "    [0, 0, 1, 0, 0, 0, 1, 0, 0, 0], # 3\n",
    "    [0, 1, 0, 0, 0, 1, 0, 1, 0, 0], # 4\n",
    "    [0, 0, 1, 0, 1, 0, 1, 0, 1, 0], # 5\n",
    "    [0, 0, 0, 1, 0, 1, 0, 0, 0, 1], # 6\n",
    "    [0, 0, 0, 0, 1, 0, 0, 0, 1, 0], # 7\n",
    "    [1, 0, 0, 0, 0, 1, 0, 1, 0, 1], # 8\n",
    "    [0, 0, 0, 0, 0, 0, 1, 0, 1, 0], # 9\n",
    "])\n",
    "omega_1 = np.empty((10,1), dtype=int)\n",
    "omega_1[:] = 1\n",
    "base_case = A*omega_1\n",
    "base_case"
   ]
  },
  {
   "cell_type": "markdown",
   "metadata": {},
   "source": [
    "#### base case - summation method (these are equivalent)"
   ]
  },
  {
   "cell_type": "code",
   "execution_count": 6,
   "metadata": {
    "scrolled": true
   },
   "outputs": [
    {
     "data": {
      "text/plain": [
       "[1, 2, 3, 2, 3, 4, 3, 2, 4, 2]"
      ]
     },
     "execution_count": 6,
     "metadata": {},
     "output_type": "execute_result"
    }
   ],
   "source": [
    "A = np.matrix([\n",
    "    [0, 0, 0, 0, 0, 0, 0, 0, 1, 0], # 0\n",
    "    [0, 0, 1, 0, 1, 0, 0, 0, 0, 0], # 1\n",
    "    [0, 1, 0, 1, 0, 1, 0, 0, 0, 0], # 2\n",
    "    [0, 0, 1, 0, 0, 0, 1, 0, 0, 0], # 3\n",
    "    [0, 1, 0, 0, 0, 1, 0, 1, 0, 0], # 4\n",
    "    [0, 0, 1, 0, 1, 0, 1, 0, 1, 0], # 5\n",
    "    [0, 0, 0, 1, 0, 1, 0, 0, 0, 1], # 6\n",
    "    [0, 0, 0, 0, 1, 0, 0, 0, 1, 0], # 7\n",
    "    [1, 0, 0, 0, 0, 1, 0, 1, 0, 1], # 8\n",
    "    [0, 0, 0, 0, 0, 0, 1, 0, 1, 0], # 9\n",
    "])\n",
    "_omega_1 = [np.sum(A[q]>0) for q in range(10)]\n",
    "_omega_1"
   ]
  },
  {
   "cell_type": "markdown",
   "metadata": {},
   "source": [
    "#### induction step"
   ]
  },
  {
   "cell_type": "code",
   "execution_count": 7,
   "metadata": {},
   "outputs": [
    {
     "data": {
      "text/latex": [
       "$\\displaystyle \\Omega(k+1) = A*\\Omega(k+1-1)$"
      ],
      "text/plain": [
       "<IPython.core.display.Math object>"
      ]
     },
     "execution_count": 7,
     "metadata": {},
     "output_type": "execute_result"
    }
   ],
   "source": [
    "Math(r'\\Omega(k+1) = A*\\Omega(k+1-1)')"
   ]
  },
  {
   "cell_type": "code",
   "execution_count": 8,
   "metadata": {
    "scrolled": true
   },
   "outputs": [
    {
     "data": {
      "text/latex": [
       "$\\displaystyle \\Omega(k+1) = A*[\\Omega(k)]$"
      ],
      "text/plain": [
       "<IPython.core.display.Math object>"
      ]
     },
     "execution_count": 8,
     "metadata": {},
     "output_type": "execute_result"
    }
   ],
   "source": [
    "Math(r'\\Omega(k+1) = A*[\\Omega(k)]')"
   ]
  },
  {
   "cell_type": "markdown",
   "metadata": {},
   "source": [
    "replace RHS above with definition of Omega(N):"
   ]
  },
  {
   "cell_type": "code",
   "execution_count": 9,
   "metadata": {},
   "outputs": [
    {
     "data": {
      "text/latex": [
       "$\\displaystyle \\Omega(k+1) = A*A^{k-1}*\\Omega(1)]$"
      ],
      "text/plain": [
       "<IPython.core.display.Math object>"
      ]
     },
     "execution_count": 9,
     "metadata": {},
     "output_type": "execute_result"
    }
   ],
   "source": [
    "Math(r'\\Omega(k+1) = A*A^{k-1}*\\Omega(1)]')"
   ]
  },
  {
   "cell_type": "code",
   "execution_count": 10,
   "metadata": {},
   "outputs": [
    {
     "data": {
      "text/latex": [
       "$\\displaystyle \\Omega(k+1) = A^{k+1-1}*\\Omega(1)]$"
      ],
      "text/plain": [
       "<IPython.core.display.Math object>"
      ]
     },
     "execution_count": 10,
     "metadata": {},
     "output_type": "execute_result"
    }
   ],
   "source": [
    "Math(r'\\Omega(k+1) = A^{k+1-1}*\\Omega(1)]')"
   ]
  },
  {
   "cell_type": "markdown",
   "metadata": {},
   "source": [
    "QED."
   ]
  },
  {
   "cell_type": "markdown",
   "metadata": {},
   "source": [
    "### (c)  create 10x10 np matrix and generate transpose"
   ]
  },
  {
   "cell_type": "code",
   "execution_count": 11,
   "metadata": {},
   "outputs": [
    {
     "data": {
      "text/plain": [
       "matrix([[ True,  True,  True,  True,  True,  True,  True,  True,  True,\n",
       "          True],\n",
       "        [ True,  True,  True,  True,  True,  True,  True,  True,  True,\n",
       "          True],\n",
       "        [ True,  True,  True,  True,  True,  True,  True,  True,  True,\n",
       "          True],\n",
       "        [ True,  True,  True,  True,  True,  True,  True,  True,  True,\n",
       "          True],\n",
       "        [ True,  True,  True,  True,  True,  True,  True,  True,  True,\n",
       "          True],\n",
       "        [ True,  True,  True,  True,  True,  True,  True,  True,  True,\n",
       "          True],\n",
       "        [ True,  True,  True,  True,  True,  True,  True,  True,  True,\n",
       "          True],\n",
       "        [ True,  True,  True,  True,  True,  True,  True,  True,  True,\n",
       "          True],\n",
       "        [ True,  True,  True,  True,  True,  True,  True,  True,  True,\n",
       "          True],\n",
       "        [ True,  True,  True,  True,  True,  True,  True,  True,  True,\n",
       "          True]])"
      ]
     },
     "execution_count": 11,
     "metadata": {},
     "output_type": "execute_result"
    }
   ],
   "source": [
    "A == A.transpose()"
   ]
  },
  {
   "cell_type": "markdown",
   "metadata": {},
   "source": [
    "transpose equal is expected because of path symmetry, i.e. graph edges are not directed"
   ]
  },
  {
   "cell_type": "markdown",
   "metadata": {},
   "source": [
    "### (d)  dialer_problem function using \"for loop\" matrix multiply"
   ]
  },
  {
   "cell_type": "code",
   "execution_count": 12,
   "metadata": {},
   "outputs": [
    {
     "name": "stdout",
     "output_type": "stream",
     "text": [
      "18713\n"
     ]
    }
   ],
   "source": [
    "A = np.matrix([\n",
    "    [0, 0, 0, 0, 0, 0, 0, 0, 1, 0],  # 0\n",
    "    [0, 0, 1, 0, 1, 0, 0, 0, 0, 0],  # 1\n",
    "    [0, 1, 0, 1, 0, 1, 0, 0, 0, 0],  # 2\n",
    "    [0, 0, 1, 0, 0, 0, 1, 0, 0, 0],  # 3\n",
    "    [0, 1, 0, 0, 0, 1, 0, 1, 0, 0],  # 4\n",
    "    [0, 0, 1, 0, 1, 0, 1, 0, 1, 0],  # 5\n",
    "    [0, 0, 0, 1, 0, 1, 0, 0, 0, 1],  # 6\n",
    "    [0, 0, 0, 0, 1, 0, 0, 0, 1, 0],  # 7\n",
    "    [1, 0, 0, 0, 0, 1, 0, 1, 0, 1],  # 8\n",
    "    [0, 0, 0, 0, 0, 0, 1, 0, 1, 0],  # 9\n",
    "])\n",
    "\n",
    "omega_1 = np.ones((10,1), dtype=int)\n",
    "\n",
    "def dialer_problem(S, N):\n",
    "    if N == 1:\n",
    "        return 1\n",
    "    _A = np.identity(10, dtype=int)\n",
    "    for i in range(N-1):\n",
    "        _A = _A*A\n",
    "    _A = _A*omega_1\n",
    "    return int(_A[S])\n",
    "\n",
    "print(dialer_problem(5, 10))\n",
    "        "
   ]
  },
  {
   "cell_type": "markdown",
   "metadata": {},
   "source": [
    "### (e)  dialer_problem function not using Numpy"
   ]
  },
  {
   "cell_type": "code",
   "execution_count": 13,
   "metadata": {
    "scrolled": true
   },
   "outputs": [
    {
     "data": {
      "text/plain": [
       "18713"
      ]
     },
     "execution_count": 13,
     "metadata": {},
     "output_type": "execute_result"
    }
   ],
   "source": [
    "AL = [\n",
    "    [0, 0, 0, 0, 0, 0, 0, 0, 1, 0],  # 0\n",
    "    [0, 0, 1, 0, 1, 0, 0, 0, 0, 0],  # 1\n",
    "    [0, 1, 0, 1, 0, 1, 0, 0, 0, 0],  # 2\n",
    "    [0, 0, 1, 0, 0, 0, 1, 0, 0, 0],  # 3\n",
    "    [0, 1, 0, 0, 0, 1, 0, 1, 0, 0],  # 4\n",
    "    [0, 0, 1, 0, 1, 0, 1, 0, 1, 0],  # 5\n",
    "    [0, 0, 0, 1, 0, 1, 0, 0, 0, 1],  # 6\n",
    "    [0, 0, 0, 0, 1, 0, 0, 0, 1, 0],  # 7\n",
    "    [1, 0, 0, 0, 0, 1, 0, 1, 0, 1],  # 8\n",
    "    [0, 0, 0, 0, 0, 0, 1, 0, 1, 0],  # 9\n",
    "]\n",
    "\n",
    "omega_1L = [\n",
    "    [1],\n",
    "    [1],\n",
    "    [1],\n",
    "    [1],\n",
    "    [1],\n",
    "    [1],\n",
    "    [1],\n",
    "    [1],\n",
    "    [1],\n",
    "    [1],\n",
    "]\n",
    "\n",
    "def matrix_multiply(a, b):\n",
    "    'c = ab'\n",
    "    nrow_a = len(a)\n",
    "    ncol_a = len(a[0])\n",
    "    nrow_b = len(b)\n",
    "    ncol_b = len(b[0])\n",
    "    if ncol_a != nrow_b:\n",
    "        print('illegal multiply, a (%d x %d), b (%d x %d)' % (nrow_a, ncol_a, nrow_b, ncol_b))\n",
    "        return\n",
    "    \n",
    "    nrow_c = nrow_a\n",
    "    ncol_c = ncol_b\n",
    "\n",
    "    c = []\n",
    "    for i in range(nrow_c):\n",
    "        c.append([])\n",
    "        for j in range(ncol_c):\n",
    "            c[i].append(sum([a[i][k]*b[k][j] for k in range(nrow_a)]))\n",
    "    return c\n",
    "\n",
    "def dialer_problem2(S, N):\n",
    "    _A = AL\n",
    "    for i in range(N - 2):\n",
    "        _A = matrix_multiply(_A, AL)\n",
    "    _A = matrix_multiply(_A, omega_1L)\n",
    "    return _A[S][0]\n",
    "\n",
    "dialer_problem2(5, 10)"
   ]
  },
  {
   "cell_type": "markdown",
   "metadata": {},
   "source": [
    "### (f)  estimate algorithm efficiency from part d, by using execution time"
   ]
  },
  {
   "cell_type": "code",
   "execution_count": 14,
   "metadata": {},
   "outputs": [
    {
     "data": {
      "image/png": "[encoded data removed]",
      "text/plain": [
       "<Figure size 432x288 with 1 Axes>"
      ]
     },
     "metadata": {
      "needs_background": "light"
     },
     "output_type": "display_data"
    }
   ],
   "source": [
    "A = np.matrix([\n",
    "    [0, 0, 0, 0, 0, 0, 0, 0, 1, 0],  # 0\n",
    "    [0, 0, 1, 0, 1, 0, 0, 0, 0, 0],  # 1\n",
    "    [0, 1, 0, 1, 0, 1, 0, 0, 0, 0],  # 2\n",
    "    [0, 0, 1, 0, 0, 0, 1, 0, 0, 0],  # 3\n",
    "    [0, 1, 0, 0, 0, 1, 0, 1, 0, 0],  # 4\n",
    "    [0, 0, 1, 0, 1, 0, 1, 0, 1, 0],  # 5\n",
    "    [0, 0, 0, 1, 0, 1, 0, 0, 0, 1],  # 6\n",
    "    [0, 0, 0, 0, 1, 0, 0, 0, 1, 0],  # 7\n",
    "    [1, 0, 0, 0, 0, 1, 0, 1, 0, 1],  # 8\n",
    "    [0, 0, 0, 0, 0, 0, 1, 0, 1, 0],  # 9\n",
    "])\n",
    "\n",
    "omega_1 = np.ones((10,1), dtype=int)\n",
    "\n",
    "def dialer_problem(S, N):\n",
    "    if N == 1:\n",
    "        return 1\n",
    "    _A = np.identity(10, dtype=int)\n",
    "    for i in range(N-1):\n",
    "        _A = _A*A\n",
    "    _A = _A*omega_1\n",
    "    return int(_A[S][0])\n",
    "\n",
    "npts = 1000\n",
    "times = []\n",
    "x = [i for i in range(1, npts)]\n",
    "for n in range(1, npts):\n",
    "    s = random.randint(0, 9)\n",
    "    tt = timeit.timeit('dialer_problem(s, n)', 'from __main__ import dialer_problem, s, n', number=4)\n",
    "    times.append((tt, s, n))\n",
    "\n",
    "y = np.array([(q[0]*1e3) for q in times])\n",
    "\n",
    "# linear fit of y\n",
    "fit = np.polyfit(x, y, 2)\n",
    "b = fit[0] # intercept\n",
    "m = fit[1] # slope\n",
    "y1 = np.array([m*q for q in x])\n",
    "\n",
    "plt.plot(x, y)\n",
    "plt.plot(x, y1)\n",
    "plt.ylabel('execution time (ms)')\n",
    "plt.xlabel('N')\n",
    "plt.show()"
   ]
  },
  {
   "cell_type": "markdown",
   "metadata": {},
   "source": [
    "### (g)  how long (ms) to run part d algorithm if N=1e7?"
   ]
  },
  {
   "cell_type": "code",
   "execution_count": 15,
   "metadata": {},
   "outputs": [
    {
     "data": {
      "text/plain": [
       "213813"
      ]
     },
     "execution_count": 15,
     "metadata": {},
     "output_type": "execute_result"
    }
   ],
   "source": [
    "#  use result from polyfit\n",
    "t = int(m*1e7 + b)\n",
    "t"
   ]
  },
  {
   "cell_type": "markdown",
   "metadata": {},
   "source": [
    "### (h)  write a decimal to binary function"
   ]
  },
  {
   "cell_type": "code",
   "execution_count": 16,
   "metadata": {},
   "outputs": [
    {
     "name": "stdout",
     "output_type": "stream",
     "text": [
      "[1, 0, 1, 1, 0]\n"
     ]
    }
   ],
   "source": [
    "def dec2bin(d, msbfirst=True):\n",
    "    blist = [int((d & 1 << q)/2**q) for q in range(math.ceil(math.log2(d)))]\n",
    "    if msbfirst:\n",
    "        return blist[::-1]\n",
    "    else:\n",
    "        return blist\n",
    "print(dec2bin(22))"
   ]
  },
  {
   "cell_type": "markdown",
   "metadata": {},
   "source": [
    "### (i)  improve matrix multiply by using precomputed multiplication factors"
   ]
  },
  {
   "cell_type": "code",
   "execution_count": 17,
   "metadata": {},
   "outputs": [
    {
     "name": "stdout",
     "output_type": "stream",
     "text": [
      "18713\n"
     ]
    },
    {
     "data": {
      "image/png": "[encoded data removed]",
      "text/plain": [
       "<Figure size 432x288 with 1 Axes>"
      ]
     },
     "metadata": {
      "needs_background": "light"
     },
     "output_type": "display_data"
    }
   ],
   "source": [
    "def mpower(A, n):\n",
    "    'matrix multiply'\n",
    "    I = np.identity(10, dtype=int)\n",
    "    ba = dec2bin(n, msbfirst=False)\n",
    "    precompute = []\n",
    "    precompute = [A]\n",
    "    for i in range(1, len(ba)):\n",
    "        precompute.append(precompute[i-1]*precompute[i-1])\n",
    "    _A = I\n",
    "    for (i, b) in enumerate(ba):\n",
    "        if b == 1:\n",
    "            _A = _A*precompute[i]\n",
    "    return _A\n",
    "\n",
    "\n",
    "def dialer_problem(S, N):\n",
    "    if N == 1:\n",
    "        return 1\n",
    "    global A\n",
    "    global omega_1\n",
    "    _A = mpower(A, N-1)\n",
    "    _A = _A*omega_1\n",
    "    return int(_A[S][0])\n",
    "\n",
    "print(dialer_problem(5, 10))\n",
    "\n",
    "npts = 1000\n",
    "times = []\n",
    "x = [i for i in range(1, npts)]\n",
    "\n",
    "for n in range(1, npts):\n",
    "    s = random.randint(0, 9)\n",
    "    tt = timeit.timeit('dialer_problem(s, n)', 'from __main__ import dialer_problem, s, n', number=20)\n",
    "    times.append((tt, s, n))\n",
    "\n",
    "y = np.array([(q[0]*1e3) for q in times])\n",
    "\n",
    "# logx fit\n",
    "fit = np.polyfit(np.log(x), y, 1)\n",
    "y1 = np.array([(fit[0]*math.log(q) + fit[1]) for q in x])\n",
    "plt.plot(x, y)\n",
    "plt.plot(x, y1)\n",
    "plt.ylabel('execution time (ms)')\n",
    "plt.xlabel('N')\n",
    "plt.show()"
   ]
  },
  {
   "cell_type": "markdown",
   "metadata": {},
   "source": [
    "### (k)  how long to run part d algorithm if N=10e7?"
   ]
  },
  {
   "cell_type": "code",
   "execution_count": 18,
   "metadata": {},
   "outputs": [
    {
     "name": "stdout",
     "output_type": "stream",
     "text": [
      "0.2540921249389496\n",
      "0.3402272216555169\n"
     ]
    },
    {
     "data": {
      "text/plain": [
       "5.020777134708365"
      ]
     },
     "execution_count": 18,
     "metadata": {},
     "output_type": "execute_result"
    }
   ],
   "source": [
    "#  use result from polyfit\n",
    "print(fit[0])\n",
    "print(fit[1])\n",
    "t = fit[0]*math.log(10e7) + fit[1]\n",
    "t"
   ]
  },
  {
   "cell_type": "markdown",
   "metadata": {},
   "source": [
    "## Problem 2"
   ]
  },
  {
   "cell_type": "markdown",
   "metadata": {},
   "source": [
    "### (a)  covariance matrix"
   ]
  },
  {
   "cell_type": "code",
   "execution_count": 19,
   "metadata": {},
   "outputs": [],
   "source": [
    "%reset -f\n",
    "\n",
    "import numpy as np\n",
    "import matplotlib.pyplot as plt"
   ]
  },
  {
   "cell_type": "code",
   "execution_count": 20,
   "metadata": {},
   "outputs": [
    {
     "data": {
      "text/plain": [
       "array([[8.70742333, 7.41923   ],\n",
       "       [7.41923   , 9.21336556]])"
      ]
     },
     "execution_count": 20,
     "metadata": {},
     "output_type": "execute_result"
    }
   ],
   "source": [
    "D = np.array([\n",
    "    [1.72, 0.10],\n",
    "    [-0.58, 0.31],\n",
    "    [1.99, 1.54],\n",
    "    [1.60, 4.97],\n",
    "    [2.72, 2.43],\n",
    "    [2.83, 3.59],\n",
    "    [5.95, 7.71],\n",
    "    [4.75, 7.63],\n",
    "    [5.57, 5.60],\n",
    "    [9.82, 7.91],\n",
    "])\n",
    "\n",
    "C = np.cov(D.T)\n",
    "C"
   ]
  },
  {
   "cell_type": "markdown",
   "metadata": {},
   "source": [
    "### (b)  find eigenvalues and corresponding eigenvectors for the covariance matrix.\n",
    "name the eigenvector with the most variance v."
   ]
  },
  {
   "cell_type": "code",
   "execution_count": 21,
   "metadata": {},
   "outputs": [
    {
     "name": "stdout",
     "output_type": "stream",
     "text": [
      "EVAL [ 1.53685296 16.38393593]\n",
      "EVEC [[-0.71905385 -0.69495436]\n",
      " [ 0.69495436 -0.71905385]]\n"
     ]
    },
    {
     "data": {
      "text/plain": [
       "array([-0.69495436, -0.71905385])"
      ]
     },
     "execution_count": 21,
     "metadata": {},
     "output_type": "execute_result"
    }
   ],
   "source": [
    "EVAL, EVEC = np.linalg.eig(C)\n",
    "print('EVAL', EVAL)\n",
    "print('EVEC', EVEC)\n",
    "\n",
    "v = EVEC.T[np.argmax(EVAL)].T\n",
    "v"
   ]
  },
  {
   "cell_type": "markdown",
   "metadata": {},
   "source": [
    "### (c)  use the dot product of matrix D and v to map all the data points to a direction which corresponds to the most variance."
   ]
  },
  {
   "cell_type": "code",
   "execution_count": 22,
   "metadata": {},
   "outputs": [
    {
     "name": "stdout",
     "output_type": "stream",
     "text": [
      "D_1 [ -1.26722688   0.18016683  -2.4903021   -4.68562461  -3.63757671\n",
      "  -4.54812416  -9.67888362  -8.78741408  -7.89759734 -12.51216776]\n"
     ]
    }
   ],
   "source": [
    "D_1 = np.matmul(D, v)\n",
    "print(\"D_1\", D_1)"
   ]
  },
  {
   "cell_type": "markdown",
   "metadata": {},
   "source": [
    "### plots"
   ]
  },
  {
   "cell_type": "code",
   "execution_count": 23,
   "metadata": {},
   "outputs": [],
   "source": [
    "# orthogonal eigenvector for plotting\n",
    "imin = np.argmin(EVAL)\n",
    "vv = (EVEC.T[imin])"
   ]
  },
  {
   "cell_type": "code",
   "execution_count": 24,
   "metadata": {
    "scrolled": true
   },
   "outputs": [
    {
     "data": {
      "image/png": "[encoded data removed]",
      "text/plain": [
       "<Figure size 432x288 with 1 Axes>"
      ]
     },
     "metadata": {
      "needs_background": "light"
     },
     "output_type": "display_data"
    }
   ],
   "source": [
    "fig, ax = plt.subplots()\n",
    "ax.scatter(D[:,0], D[:,1], facecolors='none', edgecolors='r')\n",
    "for i in range(len(D)):\n",
    "    ax.annotate('%d' % i, (D[i][0], D[i][1]))\n",
    "xbar = np.mean(D[:,0])\n",
    "ybar = np.mean(D[:,1])\n",
    "vscale=1/(np.sqrt(v[0]**2 + v[1]**2))\n",
    "vvscale=1/(np.sqrt(vv[0]**2 + vv[1]**2))\n",
    "ax.quiver(xbar, ybar, v[0], v[1], scale=vscale, scale_units='xy', color='r')\n",
    "ax.quiver(xbar, ybar, vv[0], vv[1], scale=vvscale, scale_units='xy', color='b')\n",
    "plt.xlabel('X')\n",
    "plt.ylabel('Y')\n",
    "plt.xticks(np.arange(0, len(D)+1))\n",
    "plt.yticks(np.arange(0, len(D)+1))\n",
    "plt.grid(True)\n",
    "plt.show()"
   ]
  },
  {
   "cell_type": "code",
   "execution_count": 25,
   "metadata": {},
   "outputs": [
    {
     "data": {
      "image/png": "[encoded data removed]",
      "text/plain": [
       "<Figure size 432x288 with 1 Axes>"
      ]
     },
     "metadata": {
      "needs_background": "light"
     },
     "output_type": "display_data"
    }
   ],
   "source": [
    "fig, ax = plt.subplots()\n",
    "ax.scatter(D_1, [0. for i in range(len(D_1))], facecolors='none', edgecolors='k')\n",
    "for i in range(len(D_1)):\n",
    "    if i == 3:\n",
    "        ax.annotate('%d' % i, (D_1[i], 0.), xytext=(D_1[i], -0.006))\n",
    "    else:\n",
    "        ax.annotate('%d' % i, (D_1[i], 0.), xytext=(D_1[i], 0.004))\n",
    "ax.quiver(np.min(D_1), 0., np.max(D_1)-np.min(D_1), 0., scale=0.95, scale_units='xy', color='r')\n",
    "plt.grid(True)\n",
    "plt.show()"
   ]
  }
 ],
 "metadata": {
  "kernelspec": {
   "display_name": "PHYS247",
   "language": "python",
   "name": "phys247"
  },
  "language_info": {
   "codemirror_mode": {
    "name": "ipython",
    "version": 3
   },
   "file_extension": ".py",
   "mimetype": "text/x-python",
   "name": "python",
   "nbconvert_exporter": "python",
   "pygments_lexer": "ipython3",
   "version": "3.8.2"
  }
 },
 "nbformat": 4,
 "nbformat_minor": 4
}
